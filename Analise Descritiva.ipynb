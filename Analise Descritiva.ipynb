{
 "cells": [
  {
   "attachments": {},
   "cell_type": "markdown",
   "metadata": {},
   "source": [
    "<h1> Análise descritiva Questionario Socioeconomico - 1° semestre de 2022 - Cursos técnicos </h1>"
   ]
  },
  {
   "cell_type": "code",
   "execution_count": 1,
   "metadata": {},
   "outputs": [],
   "source": [
    "import pandas as pd"
   ]
  },
  {
   "cell_type": "code",
   "execution_count": 143,
   "metadata": {},
   "outputs": [
    {
     "data": {
      "text/html": [
       "<div>\n",
       "<style scoped>\n",
       "    .dataframe tbody tr th:only-of-type {\n",
       "        vertical-align: middle;\n",
       "    }\n",
       "\n",
       "    .dataframe tbody tr th {\n",
       "        vertical-align: top;\n",
       "    }\n",
       "\n",
       "    .dataframe thead th {\n",
       "        text-align: right;\n",
       "    }\n",
       "</style>\n",
       "<table border=\"1\" class=\"dataframe\">\n",
       "  <thead>\n",
       "    <tr style=\"text-align: right;\">\n",
       "      <th></th>\n",
       "      <th>Curso</th>\n",
       "      <th>Modalidade</th>\n",
       "      <th>Turno</th>\n",
       "      <th>Campus</th>\n",
       "      <th>Polo</th>\n",
       "      <th>Inscrição</th>\n",
       "      <th>1. Você exerce alguma atividade remunerada?</th>\n",
       "      <th>2. Qual é sua renda mensal? (valor do salário mínimo R$1.212)</th>\n",
       "      <th>3. Incluindo você, quantos membros da sua família habitam a mesma residência?</th>\n",
       "      <th>4. Qual é a renda mensal de sua família? (valor do salário mínimo R$1.212)</th>\n",
       "      <th>...</th>\n",
       "      <th>14. Indique a sua Faixa Etária:</th>\n",
       "      <th>15. Você reside em:</th>\n",
       "      <th>16. Se você repetiu alguma série do Ensino Fundamental, informe o número de vezes</th>\n",
       "      <th>17. Se você repetiu alguma série do Ensino Médio, informe o número de vezes:</th>\n",
       "      <th>18. O Grau de Escolaridade do seu pai é:</th>\n",
       "      <th>19. O Grau de Escolaridade da sua mãe é:</th>\n",
       "      <th>20. Você apresenta algum tipo de deficiência?</th>\n",
       "      <th>21. Você tem outra necessidade especial?</th>\n",
       "      <th>22. É a 1ª vez que participa do Processo Seletivo do IFNMG?</th>\n",
       "      <th>23. Como ficou sabendo deste Processo Seletivo?</th>\n",
       "    </tr>\n",
       "  </thead>\n",
       "  <tbody>\n",
       "    <tr>\n",
       "      <th>0</th>\n",
       "      <td>Serviços Jurídicos (EAD)</td>\n",
       "      <td>Cursos Técnicos Concomitantes/Subsequentes</td>\n",
       "      <td>não se aplica</td>\n",
       "      <td>CEAD</td>\n",
       "      <td>NaN</td>\n",
       "      <td>199054</td>\n",
       "      <td>Não</td>\n",
       "      <td>Não tenho nenhuma renda mensal</td>\n",
       "      <td>De uma a três pessoas</td>\n",
       "      <td>Renda Familiar per capta de um até um e meio s...</td>\n",
       "      <td>...</td>\n",
       "      <td>De 25 a 29 anos</td>\n",
       "      <td>Zona Urbana</td>\n",
       "      <td>Nenhuma vez</td>\n",
       "      <td>Nenhuma vez</td>\n",
       "      <td>Superior completo</td>\n",
       "      <td>Superior incompleto</td>\n",
       "      <td>Não apresento nenhum tipo de deficiência</td>\n",
       "      <td>Não tenho nenhuma necessidade especial</td>\n",
       "      <td>Não</td>\n",
       "      <td>Portal do IFNMG (www.ifnmg.edu.br)</td>\n",
       "    </tr>\n",
       "    <tr>\n",
       "      <th>1</th>\n",
       "      <td>Técnico em Eletrotécnica</td>\n",
       "      <td>Cursos Técnicos Concomitantes/Subsequentes</td>\n",
       "      <td>Noturno</td>\n",
       "      <td>Montes Claros</td>\n",
       "      <td>NaN</td>\n",
       "      <td>199055</td>\n",
       "      <td>Sim, em tempo integral (mais de trinta horas s...</td>\n",
       "      <td>Mais de 1,5 salário-mínimo</td>\n",
       "      <td>De uma a três pessoas</td>\n",
       "      <td>Renda Familiar per capta de meio até um salári...</td>\n",
       "      <td>...</td>\n",
       "      <td>De 30 a 39 anos</td>\n",
       "      <td>Zona Rural</td>\n",
       "      <td>Nenhuma vez</td>\n",
       "      <td>Nenhuma vez</td>\n",
       "      <td>Ensino Fundamental incompleto</td>\n",
       "      <td>Ensino Fundamental incompleto</td>\n",
       "      <td>Não apresento nenhum tipo de deficiência</td>\n",
       "      <td>Não tenho nenhuma necessidade especial</td>\n",
       "      <td>Não</td>\n",
       "      <td>Portal do IFNMG (www.ifnmg.edu.br)</td>\n",
       "    </tr>\n",
       "    <tr>\n",
       "      <th>2</th>\n",
       "      <td>Serviços Jurídicos (EAD)</td>\n",
       "      <td>Cursos Técnicos Concomitantes/Subsequentes</td>\n",
       "      <td>não se aplica</td>\n",
       "      <td>CEAD</td>\n",
       "      <td>NaN</td>\n",
       "      <td>199056</td>\n",
       "      <td>Sim, em tempo integral (mais de trinta horas s...</td>\n",
       "      <td>De 1 salário-mínimo até 1,5 salário-mínimo</td>\n",
       "      <td>De uma a três pessoas</td>\n",
       "      <td>Renda Familiar per capta maior que três salári...</td>\n",
       "      <td>...</td>\n",
       "      <td>De 40 a 49 anos</td>\n",
       "      <td>Zona Urbana</td>\n",
       "      <td>Nenhuma vez</td>\n",
       "      <td>Nenhuma vez</td>\n",
       "      <td>Ensino Médio incompleto</td>\n",
       "      <td>Ensino Médio completo</td>\n",
       "      <td>Não apresento nenhum tipo de deficiência</td>\n",
       "      <td>Não tenho nenhuma necessidade especial</td>\n",
       "      <td>Sim</td>\n",
       "      <td>Por um familiar ou conhecido</td>\n",
       "    </tr>\n",
       "    <tr>\n",
       "      <th>3</th>\n",
       "      <td>Técnico em Enfermagem</td>\n",
       "      <td>Cursos Técnicos Concomitantes/Subsequentes</td>\n",
       "      <td>Noturno</td>\n",
       "      <td>Almenara</td>\n",
       "      <td>NaN</td>\n",
       "      <td>199234</td>\n",
       "      <td>Não</td>\n",
       "      <td>Não tenho nenhuma renda mensal</td>\n",
       "      <td>De quatro a seis pessoas</td>\n",
       "      <td>Renda Familiar per capta de meio até um salári...</td>\n",
       "      <td>...</td>\n",
       "      <td>De 18 a 19 anos</td>\n",
       "      <td>Zona Rural</td>\n",
       "      <td>Nenhuma vez</td>\n",
       "      <td>Nenhuma vez</td>\n",
       "      <td>Ensino Fundamental incompleto</td>\n",
       "      <td>Ensino Fundamental incompleto</td>\n",
       "      <td>Não apresento nenhum tipo de deficiência</td>\n",
       "      <td>Não tenho nenhuma necessidade especial</td>\n",
       "      <td>Sim</td>\n",
       "      <td>Portal do IFNMG (www.ifnmg.edu.br)</td>\n",
       "    </tr>\n",
       "    <tr>\n",
       "      <th>4</th>\n",
       "      <td>Serviços Jurídicos (EAD)</td>\n",
       "      <td>Cursos Técnicos Concomitantes/Subsequentes</td>\n",
       "      <td>não se aplica</td>\n",
       "      <td>CEAD</td>\n",
       "      <td>NaN</td>\n",
       "      <td>199057</td>\n",
       "      <td>Sim, em tempo integral (mais de trinta horas s...</td>\n",
       "      <td>De 1 salário-mínimo até 1,5 salário-mínimo</td>\n",
       "      <td>De uma a três pessoas</td>\n",
       "      <td>Renda Familiar per capta de um até um e meio s...</td>\n",
       "      <td>...</td>\n",
       "      <td>De 20 a 24 anos</td>\n",
       "      <td>Zona Urbana</td>\n",
       "      <td>Nenhuma vez</td>\n",
       "      <td>Nenhuma vez</td>\n",
       "      <td>Ensino Médio completo</td>\n",
       "      <td>Pós-Graduada</td>\n",
       "      <td>Não apresento nenhum tipo de deficiência</td>\n",
       "      <td>Não tenho nenhuma necessidade especial</td>\n",
       "      <td>Não</td>\n",
       "      <td>Por um familiar ou conhecido</td>\n",
       "    </tr>\n",
       "  </tbody>\n",
       "</table>\n",
       "<p>5 rows × 29 columns</p>\n",
       "</div>"
      ],
      "text/plain": [
       "                      Curso                                  Modalidade  \\\n",
       "0  Serviços Jurídicos (EAD)  Cursos Técnicos Concomitantes/Subsequentes   \n",
       "1  Técnico em Eletrotécnica  Cursos Técnicos Concomitantes/Subsequentes   \n",
       "2  Serviços Jurídicos (EAD)  Cursos Técnicos Concomitantes/Subsequentes   \n",
       "3     Técnico em Enfermagem  Cursos Técnicos Concomitantes/Subsequentes   \n",
       "4  Serviços Jurídicos (EAD)  Cursos Técnicos Concomitantes/Subsequentes   \n",
       "\n",
       "           Turno         Campus Polo  Inscrição  \\\n",
       "0  não se aplica           CEAD  NaN     199054   \n",
       "1        Noturno  Montes Claros  NaN     199055   \n",
       "2  não se aplica           CEAD  NaN     199056   \n",
       "3        Noturno       Almenara  NaN     199234   \n",
       "4  não se aplica           CEAD  NaN     199057   \n",
       "\n",
       "         1. Você exerce alguma atividade remunerada?  \\\n",
       "0                                                Não   \n",
       "1  Sim, em tempo integral (mais de trinta horas s...   \n",
       "2  Sim, em tempo integral (mais de trinta horas s...   \n",
       "3                                                Não   \n",
       "4  Sim, em tempo integral (mais de trinta horas s...   \n",
       "\n",
       "  2. Qual é sua renda mensal? (valor do salário mínimo R$1.212)  \\\n",
       "0                     Não tenho nenhuma renda mensal              \n",
       "1                         Mais de 1,5 salário-mínimo              \n",
       "2         De 1 salário-mínimo até 1,5 salário-mínimo              \n",
       "3                     Não tenho nenhuma renda mensal              \n",
       "4         De 1 salário-mínimo até 1,5 salário-mínimo              \n",
       "\n",
       "  3. Incluindo você, quantos membros da sua família habitam a mesma residência?  \\\n",
       "0                              De uma a três pessoas                              \n",
       "1                              De uma a três pessoas                              \n",
       "2                              De uma a três pessoas                              \n",
       "3                           De quatro a seis pessoas                              \n",
       "4                              De uma a três pessoas                              \n",
       "\n",
       "  4. Qual é a renda mensal de sua família? (valor do salário mínimo R$1.212)  \\\n",
       "0  Renda Familiar per capta de um até um e meio s...                           \n",
       "1  Renda Familiar per capta de meio até um salári...                           \n",
       "2  Renda Familiar per capta maior que três salári...                           \n",
       "3  Renda Familiar per capta de meio até um salári...                           \n",
       "4  Renda Familiar per capta de um até um e meio s...                           \n",
       "\n",
       "   ... 14. Indique a sua Faixa Etária: 15. Você reside em:  \\\n",
       "0  ...                 De 25 a 29 anos         Zona Urbana   \n",
       "1  ...                 De 30 a 39 anos          Zona Rural   \n",
       "2  ...                 De 40 a 49 anos         Zona Urbana   \n",
       "3  ...                 De 18 a 19 anos          Zona Rural   \n",
       "4  ...                 De 20 a 24 anos         Zona Urbana   \n",
       "\n",
       "  16. Se você repetiu alguma série do Ensino Fundamental, informe o número de vezes  \\\n",
       "0                                        Nenhuma vez                                  \n",
       "1                                        Nenhuma vez                                  \n",
       "2                                        Nenhuma vez                                  \n",
       "3                                        Nenhuma vez                                  \n",
       "4                                        Nenhuma vez                                  \n",
       "\n",
       "  17. Se você repetiu alguma série do Ensino Médio, informe o número de vezes:  \\\n",
       "0                                        Nenhuma vez                             \n",
       "1                                        Nenhuma vez                             \n",
       "2                                        Nenhuma vez                             \n",
       "3                                        Nenhuma vez                             \n",
       "4                                        Nenhuma vez                             \n",
       "\n",
       "  18. O Grau de Escolaridade do seu pai é:  \\\n",
       "0                        Superior completo   \n",
       "1            Ensino Fundamental incompleto   \n",
       "2                  Ensino Médio incompleto   \n",
       "3            Ensino Fundamental incompleto   \n",
       "4                    Ensino Médio completo   \n",
       "\n",
       "  19. O Grau de Escolaridade da sua mãe é:  \\\n",
       "0                      Superior incompleto   \n",
       "1            Ensino Fundamental incompleto   \n",
       "2                    Ensino Médio completo   \n",
       "3            Ensino Fundamental incompleto   \n",
       "4                             Pós-Graduada   \n",
       "\n",
       "  20. Você apresenta algum tipo de deficiência?  \\\n",
       "0      Não apresento nenhum tipo de deficiência   \n",
       "1      Não apresento nenhum tipo de deficiência   \n",
       "2      Não apresento nenhum tipo de deficiência   \n",
       "3      Não apresento nenhum tipo de deficiência   \n",
       "4      Não apresento nenhum tipo de deficiência   \n",
       "\n",
       "  21. Você tem outra necessidade especial?  \\\n",
       "0   Não tenho nenhuma necessidade especial   \n",
       "1   Não tenho nenhuma necessidade especial   \n",
       "2   Não tenho nenhuma necessidade especial   \n",
       "3   Não tenho nenhuma necessidade especial   \n",
       "4   Não tenho nenhuma necessidade especial   \n",
       "\n",
       "  22. É a 1ª vez que participa do Processo Seletivo do IFNMG?  \\\n",
       "0                                                Não            \n",
       "1                                                Não            \n",
       "2                                                Sim            \n",
       "3                                                Sim            \n",
       "4                                                Não            \n",
       "\n",
       "  23. Como ficou sabendo deste Processo Seletivo?  \n",
       "0              Portal do IFNMG (www.ifnmg.edu.br)  \n",
       "1              Portal do IFNMG (www.ifnmg.edu.br)  \n",
       "2                    Por um familiar ou conhecido  \n",
       "3              Portal do IFNMG (www.ifnmg.edu.br)  \n",
       "4                    Por um familiar ou conhecido  \n",
       "\n",
       "[5 rows x 29 columns]"
      ]
     },
     "execution_count": 143,
     "metadata": {},
     "output_type": "execute_result"
    }
   ],
   "source": [
    "dataset = pd.read_csv('Relatório Questionário Socioeconômico _ Processo Seletivo IFNMG Cursos Técnicos Integrados e Conc. Subsequente 2022.1 - Plan1.csv')\n",
    "dataset.head()"
   ]
  },
  {
   "attachments": {},
   "cell_type": "markdown",
   "metadata": {},
   "source": [
    "### Processamento e transformação dos dados"
   ]
  },
  {
   "cell_type": "code",
   "execution_count": 3,
   "metadata": {},
   "outputs": [],
   "source": [
    "import sweetviz as sv"
   ]
  },
  {
   "attachments": {},
   "cell_type": "markdown",
   "metadata": {},
   "source": [
    "##### Gerando HTML para primeira visualização do conjunto"
   ]
  },
  {
   "cell_type": "code",
   "execution_count": 4,
   "metadata": {},
   "outputs": [
    {
     "name": "stderr",
     "output_type": "stream",
     "text": [
      "c:\\Users\\maykb\\Documents\\Projetos Python\\Machine Learning\\mlvenv\\lib\\site-packages\\sweetviz\\dataframe_report.py:74: FutureWarning: iteritems is deprecated and will be removed in a future version. Use .items instead.\n",
      "  all_source_names = [cur_name for cur_name, cur_series in source_df.iteritems()]\n",
      "c:\\Users\\maykb\\Documents\\Projetos Python\\Machine Learning\\mlvenv\\lib\\site-packages\\sweetviz\\dataframe_report.py:109: FutureWarning: iteritems is deprecated and will be removed in a future version. Use .items instead.\n",
      "  filtered_series_names_in_source = [cur_name for cur_name, cur_series in source_df.iteritems()\n"
     ]
    },
    {
     "data": {
      "application/vnd.jupyter.widget-view+json": {
       "model_id": "2ade3b08f8a3429bbebfdfaba699499a",
       "version_major": 2,
       "version_minor": 0
      },
      "text/plain": [
       "                                             |          | [  0%]   00:00 -> (? left)"
      ]
     },
     "metadata": {},
     "output_type": "display_data"
    },
    {
     "name": "stderr",
     "output_type": "stream",
     "text": [
      "c:\\Users\\maykb\\Documents\\Projetos Python\\Machine Learning\\mlvenv\\lib\\site-packages\\sweetviz\\series_analyzer_cat.py:28: FutureWarning: iteritems is deprecated and will be removed in a future version. Use .items instead.\n",
      "  for item in category_counts.iteritems():\n",
      "c:\\Users\\maykb\\Documents\\Projetos Python\\Machine Learning\\mlvenv\\lib\\site-packages\\sweetviz\\series_analyzer_cat.py:28: FutureWarning: iteritems is deprecated and will be removed in a future version. Use .items instead.\n",
      "  for item in category_counts.iteritems():\n",
      "c:\\Users\\maykb\\Documents\\Projetos Python\\Machine Learning\\mlvenv\\lib\\site-packages\\sweetviz\\series_analyzer_cat.py:28: FutureWarning: iteritems is deprecated and will be removed in a future version. Use .items instead.\n",
      "  for item in category_counts.iteritems():\n",
      "c:\\Users\\maykb\\Documents\\Projetos Python\\Machine Learning\\mlvenv\\lib\\site-packages\\sweetviz\\series_analyzer_cat.py:28: FutureWarning: iteritems is deprecated and will be removed in a future version. Use .items instead.\n",
      "  for item in category_counts.iteritems():\n",
      "c:\\Users\\maykb\\Documents\\Projetos Python\\Machine Learning\\mlvenv\\lib\\site-packages\\sweetviz\\series_analyzer_cat.py:28: FutureWarning: iteritems is deprecated and will be removed in a future version. Use .items instead.\n",
      "  for item in category_counts.iteritems():\n",
      "c:\\Users\\maykb\\Documents\\Projetos Python\\Machine Learning\\mlvenv\\lib\\site-packages\\sweetviz\\series_analyzer_numeric.py:25: FutureWarning: The 'mad' method is deprecated and will be removed in a future version. To compute the same result, you may do `(df - df.mean()).abs().mean()`.\n",
      "  stats[\"mad\"] = series.mad()\n",
      "c:\\Users\\maykb\\Documents\\Projetos Python\\Machine Learning\\mlvenv\\lib\\site-packages\\sweetviz\\series_analyzer_cat.py:28: FutureWarning: iteritems is deprecated and will be removed in a future version. Use .items instead.\n",
      "  for item in category_counts.iteritems():\n",
      "c:\\Users\\maykb\\Documents\\Projetos Python\\Machine Learning\\mlvenv\\lib\\site-packages\\sweetviz\\series_analyzer_cat.py:28: FutureWarning: iteritems is deprecated and will be removed in a future version. Use .items instead.\n",
      "  for item in category_counts.iteritems():\n",
      "c:\\Users\\maykb\\Documents\\Projetos Python\\Machine Learning\\mlvenv\\lib\\site-packages\\sweetviz\\series_analyzer_cat.py:28: FutureWarning: iteritems is deprecated and will be removed in a future version. Use .items instead.\n",
      "  for item in category_counts.iteritems():\n",
      "c:\\Users\\maykb\\Documents\\Projetos Python\\Machine Learning\\mlvenv\\lib\\site-packages\\sweetviz\\series_analyzer_cat.py:28: FutureWarning: iteritems is deprecated and will be removed in a future version. Use .items instead.\n",
      "  for item in category_counts.iteritems():\n",
      "c:\\Users\\maykb\\Documents\\Projetos Python\\Machine Learning\\mlvenv\\lib\\site-packages\\sweetviz\\series_analyzer_cat.py:28: FutureWarning: iteritems is deprecated and will be removed in a future version. Use .items instead.\n",
      "  for item in category_counts.iteritems():\n",
      "c:\\Users\\maykb\\Documents\\Projetos Python\\Machine Learning\\mlvenv\\lib\\site-packages\\sweetviz\\series_analyzer_cat.py:28: FutureWarning: iteritems is deprecated and will be removed in a future version. Use .items instead.\n",
      "  for item in category_counts.iteritems():\n",
      "c:\\Users\\maykb\\Documents\\Projetos Python\\Machine Learning\\mlvenv\\lib\\site-packages\\sweetviz\\series_analyzer_cat.py:28: FutureWarning: iteritems is deprecated and will be removed in a future version. Use .items instead.\n",
      "  for item in category_counts.iteritems():\n",
      "c:\\Users\\maykb\\Documents\\Projetos Python\\Machine Learning\\mlvenv\\lib\\site-packages\\sweetviz\\series_analyzer_cat.py:28: FutureWarning: iteritems is deprecated and will be removed in a future version. Use .items instead.\n",
      "  for item in category_counts.iteritems():\n",
      "c:\\Users\\maykb\\Documents\\Projetos Python\\Machine Learning\\mlvenv\\lib\\site-packages\\sweetviz\\series_analyzer_cat.py:28: FutureWarning: iteritems is deprecated and will be removed in a future version. Use .items instead.\n",
      "  for item in category_counts.iteritems():\n",
      "c:\\Users\\maykb\\Documents\\Projetos Python\\Machine Learning\\mlvenv\\lib\\site-packages\\sweetviz\\series_analyzer_cat.py:28: FutureWarning: iteritems is deprecated and will be removed in a future version. Use .items instead.\n",
      "  for item in category_counts.iteritems():\n",
      "c:\\Users\\maykb\\Documents\\Projetos Python\\Machine Learning\\mlvenv\\lib\\site-packages\\sweetviz\\series_analyzer_cat.py:28: FutureWarning: iteritems is deprecated and will be removed in a future version. Use .items instead.\n",
      "  for item in category_counts.iteritems():\n",
      "c:\\Users\\maykb\\Documents\\Projetos Python\\Machine Learning\\mlvenv\\lib\\site-packages\\sweetviz\\series_analyzer_cat.py:28: FutureWarning: iteritems is deprecated and will be removed in a future version. Use .items instead.\n",
      "  for item in category_counts.iteritems():\n",
      "c:\\Users\\maykb\\Documents\\Projetos Python\\Machine Learning\\mlvenv\\lib\\site-packages\\sweetviz\\series_analyzer_cat.py:28: FutureWarning: iteritems is deprecated and will be removed in a future version. Use .items instead.\n",
      "  for item in category_counts.iteritems():\n",
      "c:\\Users\\maykb\\Documents\\Projetos Python\\Machine Learning\\mlvenv\\lib\\site-packages\\sweetviz\\series_analyzer_cat.py:28: FutureWarning: iteritems is deprecated and will be removed in a future version. Use .items instead.\n",
      "  for item in category_counts.iteritems():\n",
      "c:\\Users\\maykb\\Documents\\Projetos Python\\Machine Learning\\mlvenv\\lib\\site-packages\\sweetviz\\series_analyzer_cat.py:28: FutureWarning: iteritems is deprecated and will be removed in a future version. Use .items instead.\n",
      "  for item in category_counts.iteritems():\n",
      "c:\\Users\\maykb\\Documents\\Projetos Python\\Machine Learning\\mlvenv\\lib\\site-packages\\sweetviz\\series_analyzer_cat.py:28: FutureWarning: iteritems is deprecated and will be removed in a future version. Use .items instead.\n",
      "  for item in category_counts.iteritems():\n",
      "c:\\Users\\maykb\\Documents\\Projetos Python\\Machine Learning\\mlvenv\\lib\\site-packages\\sweetviz\\series_analyzer_cat.py:28: FutureWarning: iteritems is deprecated and will be removed in a future version. Use .items instead.\n",
      "  for item in category_counts.iteritems():\n",
      "c:\\Users\\maykb\\Documents\\Projetos Python\\Machine Learning\\mlvenv\\lib\\site-packages\\sweetviz\\series_analyzer_cat.py:28: FutureWarning: iteritems is deprecated and will be removed in a future version. Use .items instead.\n",
      "  for item in category_counts.iteritems():\n",
      "c:\\Users\\maykb\\Documents\\Projetos Python\\Machine Learning\\mlvenv\\lib\\site-packages\\sweetviz\\series_analyzer_cat.py:28: FutureWarning: iteritems is deprecated and will be removed in a future version. Use .items instead.\n",
      "  for item in category_counts.iteritems():\n",
      "c:\\Users\\maykb\\Documents\\Projetos Python\\Machine Learning\\mlvenv\\lib\\site-packages\\sweetviz\\series_analyzer_cat.py:28: FutureWarning: iteritems is deprecated and will be removed in a future version. Use .items instead.\n",
      "  for item in category_counts.iteritems():\n",
      "c:\\Users\\maykb\\Documents\\Projetos Python\\Machine Learning\\mlvenv\\lib\\site-packages\\sweetviz\\series_analyzer_cat.py:28: FutureWarning: iteritems is deprecated and will be removed in a future version. Use .items instead.\n",
      "  for item in category_counts.iteritems():\n",
      "c:\\Users\\maykb\\Documents\\Projetos Python\\Machine Learning\\mlvenv\\lib\\site-packages\\sweetviz\\series_analyzer_cat.py:28: FutureWarning: iteritems is deprecated and will be removed in a future version. Use .items instead.\n",
      "  for item in category_counts.iteritems():\n",
      "c:\\Users\\maykb\\Documents\\Projetos Python\\Machine Learning\\mlvenv\\lib\\site-packages\\sweetviz\\series_analyzer_cat.py:28: FutureWarning: iteritems is deprecated and will be removed in a future version. Use .items instead.\n",
      "  for item in category_counts.iteritems():\n"
     ]
    },
    {
     "name": "stdout",
     "output_type": "stream",
     "text": [
      "Report EDA first report.html was generated! NOTEBOOK/COLAB USERS: the web browser MAY not pop up, regardless, the report IS saved in your notebook/colab files.\n"
     ]
    }
   ],
   "source": [
    "report = sv.analyze(dataset)\n",
    "report.show_html('EDA first report.html')"
   ]
  },
  {
   "attachments": {},
   "cell_type": "markdown",
   "metadata": {},
   "source": [
    "#### Continuando com processamento"
   ]
  },
  {
   "cell_type": "code",
   "execution_count": 5,
   "metadata": {},
   "outputs": [],
   "source": [
    "df = dataset.copy()"
   ]
  },
  {
   "cell_type": "code",
   "execution_count": 6,
   "metadata": {},
   "outputs": [],
   "source": [
    "df['Curso'] = df['Curso'].map(lambda x: x.strip())"
   ]
  },
  {
   "cell_type": "code",
   "execution_count": 7,
   "metadata": {},
   "outputs": [],
   "source": [
    "df['Turno'] = df['Turno'].map(lambda x: x.strip())"
   ]
  },
  {
   "cell_type": "code",
   "execution_count": 8,
   "metadata": {},
   "outputs": [],
   "source": [
    "df['Campus'] = df['Campus'].map(lambda x: x.strip())"
   ]
  },
  {
   "cell_type": "code",
   "execution_count": 9,
   "metadata": {},
   "outputs": [],
   "source": [
    "df['4. Qual é a renda mensal de sua família? (valor do salário mínimo R$1.212)'] = df['4. Qual é a renda mensal de sua família? (valor do salário mínimo R$1.212)'].map(lambda x: x.lower())"
   ]
  },
  {
   "cell_type": "code",
   "execution_count": 10,
   "metadata": {},
   "outputs": [],
   "source": [
    "df.drop(columns=['Polo'], inplace=True)"
   ]
  },
  {
   "cell_type": "code",
   "execution_count": 142,
   "metadata": {},
   "outputs": [],
   "source": [
    "df.to_csv('Dados pre processados Relatório Questionário Socioeconômico 1-2022.csv', index=None)"
   ]
  },
  {
   "attachments": {},
   "cell_type": "markdown",
   "metadata": {},
   "source": [
    "##### Gerando HTML para segunda visualização do conjunto comparando com o primeiro"
   ]
  },
  {
   "cell_type": "code",
   "execution_count": 86,
   "metadata": {},
   "outputs": [
    {
     "name": "stderr",
     "output_type": "stream",
     "text": [
      "c:\\Users\\maykb\\Documents\\Projetos Python\\Machine Learning\\mlvenv\\lib\\site-packages\\sweetviz\\dataframe_report.py:74: FutureWarning: iteritems is deprecated and will be removed in a future version. Use .items instead.\n",
      "  all_source_names = [cur_name for cur_name, cur_series in source_df.iteritems()]\n",
      "c:\\Users\\maykb\\Documents\\Projetos Python\\Machine Learning\\mlvenv\\lib\\site-packages\\sweetviz\\dataframe_report.py:109: FutureWarning: iteritems is deprecated and will be removed in a future version. Use .items instead.\n",
      "  filtered_series_names_in_source = [cur_name for cur_name, cur_series in source_df.iteritems()\n"
     ]
    },
    {
     "data": {
      "application/vnd.jupyter.widget-view+json": {
       "model_id": "12e85af58e7a425eb721e516626d09e9",
       "version_major": 2,
       "version_minor": 0
      },
      "text/plain": [
       "                                             |          | [  0%]   00:00 -> (? left)"
      ]
     },
     "metadata": {},
     "output_type": "display_data"
    },
    {
     "name": "stderr",
     "output_type": "stream",
     "text": [
      "c:\\Users\\maykb\\Documents\\Projetos Python\\Machine Learning\\mlvenv\\lib\\site-packages\\sweetviz\\series_analyzer_cat.py:28: FutureWarning: iteritems is deprecated and will be removed in a future version. Use .items instead.\n",
      "  for item in category_counts.iteritems():\n",
      "c:\\Users\\maykb\\Documents\\Projetos Python\\Machine Learning\\mlvenv\\lib\\site-packages\\sweetviz\\series_analyzer_cat.py:28: FutureWarning: iteritems is deprecated and will be removed in a future version. Use .items instead.\n",
      "  for item in category_counts.iteritems():\n",
      "c:\\Users\\maykb\\Documents\\Projetos Python\\Machine Learning\\mlvenv\\lib\\site-packages\\sweetviz\\series_analyzer_cat.py:28: FutureWarning: iteritems is deprecated and will be removed in a future version. Use .items instead.\n",
      "  for item in category_counts.iteritems():\n",
      "c:\\Users\\maykb\\Documents\\Projetos Python\\Machine Learning\\mlvenv\\lib\\site-packages\\sweetviz\\series_analyzer_cat.py:28: FutureWarning: iteritems is deprecated and will be removed in a future version. Use .items instead.\n",
      "  for item in category_counts.iteritems():\n",
      "c:\\Users\\maykb\\Documents\\Projetos Python\\Machine Learning\\mlvenv\\lib\\site-packages\\sweetviz\\series_analyzer_numeric.py:25: FutureWarning: The 'mad' method is deprecated and will be removed in a future version. To compute the same result, you may do `(df - df.mean()).abs().mean()`.\n",
      "  stats[\"mad\"] = series.mad()\n",
      "c:\\Users\\maykb\\Documents\\Projetos Python\\Machine Learning\\mlvenv\\lib\\site-packages\\sweetviz\\series_analyzer_cat.py:28: FutureWarning: iteritems is deprecated and will be removed in a future version. Use .items instead.\n",
      "  for item in category_counts.iteritems():\n",
      "c:\\Users\\maykb\\Documents\\Projetos Python\\Machine Learning\\mlvenv\\lib\\site-packages\\sweetviz\\series_analyzer_cat.py:28: FutureWarning: iteritems is deprecated and will be removed in a future version. Use .items instead.\n",
      "  for item in category_counts.iteritems():\n",
      "c:\\Users\\maykb\\Documents\\Projetos Python\\Machine Learning\\mlvenv\\lib\\site-packages\\sweetviz\\series_analyzer_cat.py:28: FutureWarning: iteritems is deprecated and will be removed in a future version. Use .items instead.\n",
      "  for item in category_counts.iteritems():\n",
      "c:\\Users\\maykb\\Documents\\Projetos Python\\Machine Learning\\mlvenv\\lib\\site-packages\\sweetviz\\series_analyzer_cat.py:28: FutureWarning: iteritems is deprecated and will be removed in a future version. Use .items instead.\n",
      "  for item in category_counts.iteritems():\n",
      "c:\\Users\\maykb\\Documents\\Projetos Python\\Machine Learning\\mlvenv\\lib\\site-packages\\sweetviz\\series_analyzer_cat.py:28: FutureWarning: iteritems is deprecated and will be removed in a future version. Use .items instead.\n",
      "  for item in category_counts.iteritems():\n",
      "c:\\Users\\maykb\\Documents\\Projetos Python\\Machine Learning\\mlvenv\\lib\\site-packages\\sweetviz\\series_analyzer_cat.py:28: FutureWarning: iteritems is deprecated and will be removed in a future version. Use .items instead.\n",
      "  for item in category_counts.iteritems():\n",
      "c:\\Users\\maykb\\Documents\\Projetos Python\\Machine Learning\\mlvenv\\lib\\site-packages\\sweetviz\\series_analyzer_cat.py:28: FutureWarning: iteritems is deprecated and will be removed in a future version. Use .items instead.\n",
      "  for item in category_counts.iteritems():\n",
      "c:\\Users\\maykb\\Documents\\Projetos Python\\Machine Learning\\mlvenv\\lib\\site-packages\\sweetviz\\series_analyzer_cat.py:28: FutureWarning: iteritems is deprecated and will be removed in a future version. Use .items instead.\n",
      "  for item in category_counts.iteritems():\n",
      "c:\\Users\\maykb\\Documents\\Projetos Python\\Machine Learning\\mlvenv\\lib\\site-packages\\sweetviz\\series_analyzer_cat.py:28: FutureWarning: iteritems is deprecated and will be removed in a future version. Use .items instead.\n",
      "  for item in category_counts.iteritems():\n",
      "c:\\Users\\maykb\\Documents\\Projetos Python\\Machine Learning\\mlvenv\\lib\\site-packages\\sweetviz\\series_analyzer_cat.py:28: FutureWarning: iteritems is deprecated and will be removed in a future version. Use .items instead.\n",
      "  for item in category_counts.iteritems():\n",
      "c:\\Users\\maykb\\Documents\\Projetos Python\\Machine Learning\\mlvenv\\lib\\site-packages\\sweetviz\\series_analyzer_cat.py:28: FutureWarning: iteritems is deprecated and will be removed in a future version. Use .items instead.\n",
      "  for item in category_counts.iteritems():\n",
      "c:\\Users\\maykb\\Documents\\Projetos Python\\Machine Learning\\mlvenv\\lib\\site-packages\\sweetviz\\series_analyzer_cat.py:28: FutureWarning: iteritems is deprecated and will be removed in a future version. Use .items instead.\n",
      "  for item in category_counts.iteritems():\n",
      "c:\\Users\\maykb\\Documents\\Projetos Python\\Machine Learning\\mlvenv\\lib\\site-packages\\sweetviz\\series_analyzer_cat.py:28: FutureWarning: iteritems is deprecated and will be removed in a future version. Use .items instead.\n",
      "  for item in category_counts.iteritems():\n",
      "c:\\Users\\maykb\\Documents\\Projetos Python\\Machine Learning\\mlvenv\\lib\\site-packages\\sweetviz\\series_analyzer_cat.py:28: FutureWarning: iteritems is deprecated and will be removed in a future version. Use .items instead.\n",
      "  for item in category_counts.iteritems():\n",
      "c:\\Users\\maykb\\Documents\\Projetos Python\\Machine Learning\\mlvenv\\lib\\site-packages\\sweetviz\\series_analyzer_cat.py:28: FutureWarning: iteritems is deprecated and will be removed in a future version. Use .items instead.\n",
      "  for item in category_counts.iteritems():\n",
      "c:\\Users\\maykb\\Documents\\Projetos Python\\Machine Learning\\mlvenv\\lib\\site-packages\\sweetviz\\series_analyzer_cat.py:28: FutureWarning: iteritems is deprecated and will be removed in a future version. Use .items instead.\n",
      "  for item in category_counts.iteritems():\n",
      "c:\\Users\\maykb\\Documents\\Projetos Python\\Machine Learning\\mlvenv\\lib\\site-packages\\sweetviz\\series_analyzer_cat.py:28: FutureWarning: iteritems is deprecated and will be removed in a future version. Use .items instead.\n",
      "  for item in category_counts.iteritems():\n",
      "c:\\Users\\maykb\\Documents\\Projetos Python\\Machine Learning\\mlvenv\\lib\\site-packages\\sweetviz\\series_analyzer_cat.py:28: FutureWarning: iteritems is deprecated and will be removed in a future version. Use .items instead.\n",
      "  for item in category_counts.iteritems():\n",
      "c:\\Users\\maykb\\Documents\\Projetos Python\\Machine Learning\\mlvenv\\lib\\site-packages\\sweetviz\\series_analyzer_cat.py:28: FutureWarning: iteritems is deprecated and will be removed in a future version. Use .items instead.\n",
      "  for item in category_counts.iteritems():\n",
      "c:\\Users\\maykb\\Documents\\Projetos Python\\Machine Learning\\mlvenv\\lib\\site-packages\\sweetviz\\series_analyzer_cat.py:28: FutureWarning: iteritems is deprecated and will be removed in a future version. Use .items instead.\n",
      "  for item in category_counts.iteritems():\n",
      "c:\\Users\\maykb\\Documents\\Projetos Python\\Machine Learning\\mlvenv\\lib\\site-packages\\sweetviz\\series_analyzer_cat.py:28: FutureWarning: iteritems is deprecated and will be removed in a future version. Use .items instead.\n",
      "  for item in category_counts.iteritems():\n",
      "c:\\Users\\maykb\\Documents\\Projetos Python\\Machine Learning\\mlvenv\\lib\\site-packages\\sweetviz\\series_analyzer_cat.py:28: FutureWarning: iteritems is deprecated and will be removed in a future version. Use .items instead.\n",
      "  for item in category_counts.iteritems():\n",
      "c:\\Users\\maykb\\Documents\\Projetos Python\\Machine Learning\\mlvenv\\lib\\site-packages\\sweetviz\\series_analyzer_cat.py:28: FutureWarning: iteritems is deprecated and will be removed in a future version. Use .items instead.\n",
      "  for item in category_counts.iteritems():\n"
     ]
    },
    {
     "name": "stdout",
     "output_type": "stream",
     "text": [
      "Report EDA second report.html was generated! NOTEBOOK/COLAB USERS: the web browser MAY not pop up, regardless, the report IS saved in your notebook/colab files.\n"
     ]
    }
   ],
   "source": [
    "report = sv.analyze(df)\n",
    "report.show_html('EDA second report.html')"
   ]
  },
  {
   "attachments": {},
   "cell_type": "markdown",
   "metadata": {},
   "source": [
    "##### Continuando ..."
   ]
  },
  {
   "cell_type": "code",
   "execution_count": 86,
   "metadata": {},
   "outputs": [],
   "source": [
    "import pandas as pd\n",
    "import numpy as np"
   ]
  },
  {
   "cell_type": "code",
   "execution_count": 12,
   "metadata": {},
   "outputs": [],
   "source": [
    "df = pd.read_csv('Dados pre processados Relatório Questionário Socioeconômico 1-2022.csv')"
   ]
  },
  {
   "cell_type": "code",
   "execution_count": 13,
   "metadata": {},
   "outputs": [],
   "source": [
    "import plotly.express as px\n",
    "import plotly.graph_objects as go"
   ]
  },
  {
   "cell_type": "code",
   "execution_count": 14,
   "metadata": {},
   "outputs": [
    {
     "data": {
      "application/vnd.plotly.v1+json": {
       "config": {
        "plotlyServerURL": "https://plot.ly"
       },
       "data": [
        {
         "alignmentgroup": "True",
         "hovertemplate": "x=%{x}<br>index=%{y}<extra></extra>",
         "legendgroup": "",
         "marker": {
          "color": "#636efa",
          "pattern": {
           "shape": ""
          }
         },
         "name": "",
         "offsetgroup": "",
         "orientation": "h",
         "showlegend": false,
         "textposition": "auto",
         "type": "bar",
         "x": [
          395,
          458,
          1038,
          1557,
          1561,
          2186
         ],
         "xaxis": "x",
         "y": [
          "renda familiar per capta de dois e meio até três salário mínimo",
          "renda familiar per capta maior que três salário mínimo",
          "renda familiar per capta de um e meio até dois e meio salário mínimo",
          "renda familiar per capta de um até um e meio salário mínimo",
          "renda familiar per capta de zero até meio salário mínimo",
          "renda familiar per capta de meio até um salário mínimo"
         ],
         "yaxis": "y"
        }
       ],
       "layout": {
        "barmode": "relative",
        "legend": {
         "tracegroupgap": 0
        },
        "template": {
         "data": {
          "bar": [
           {
            "error_x": {
             "color": "#2a3f5f"
            },
            "error_y": {
             "color": "#2a3f5f"
            },
            "marker": {
             "line": {
              "color": "#E5ECF6",
              "width": 0.5
             },
             "pattern": {
              "fillmode": "overlay",
              "size": 10,
              "solidity": 0.2
             }
            },
            "type": "bar"
           }
          ],
          "barpolar": [
           {
            "marker": {
             "line": {
              "color": "#E5ECF6",
              "width": 0.5
             },
             "pattern": {
              "fillmode": "overlay",
              "size": 10,
              "solidity": 0.2
             }
            },
            "type": "barpolar"
           }
          ],
          "carpet": [
           {
            "aaxis": {
             "endlinecolor": "#2a3f5f",
             "gridcolor": "white",
             "linecolor": "white",
             "minorgridcolor": "white",
             "startlinecolor": "#2a3f5f"
            },
            "baxis": {
             "endlinecolor": "#2a3f5f",
             "gridcolor": "white",
             "linecolor": "white",
             "minorgridcolor": "white",
             "startlinecolor": "#2a3f5f"
            },
            "type": "carpet"
           }
          ],
          "choropleth": [
           {
            "colorbar": {
             "outlinewidth": 0,
             "ticks": ""
            },
            "type": "choropleth"
           }
          ],
          "contour": [
           {
            "colorbar": {
             "outlinewidth": 0,
             "ticks": ""
            },
            "colorscale": [
             [
              0,
              "#0d0887"
             ],
             [
              0.1111111111111111,
              "#46039f"
             ],
             [
              0.2222222222222222,
              "#7201a8"
             ],
             [
              0.3333333333333333,
              "#9c179e"
             ],
             [
              0.4444444444444444,
              "#bd3786"
             ],
             [
              0.5555555555555556,
              "#d8576b"
             ],
             [
              0.6666666666666666,
              "#ed7953"
             ],
             [
              0.7777777777777778,
              "#fb9f3a"
             ],
             [
              0.8888888888888888,
              "#fdca26"
             ],
             [
              1,
              "#f0f921"
             ]
            ],
            "type": "contour"
           }
          ],
          "contourcarpet": [
           {
            "colorbar": {
             "outlinewidth": 0,
             "ticks": ""
            },
            "type": "contourcarpet"
           }
          ],
          "heatmap": [
           {
            "colorbar": {
             "outlinewidth": 0,
             "ticks": ""
            },
            "colorscale": [
             [
              0,
              "#0d0887"
             ],
             [
              0.1111111111111111,
              "#46039f"
             ],
             [
              0.2222222222222222,
              "#7201a8"
             ],
             [
              0.3333333333333333,
              "#9c179e"
             ],
             [
              0.4444444444444444,
              "#bd3786"
             ],
             [
              0.5555555555555556,
              "#d8576b"
             ],
             [
              0.6666666666666666,
              "#ed7953"
             ],
             [
              0.7777777777777778,
              "#fb9f3a"
             ],
             [
              0.8888888888888888,
              "#fdca26"
             ],
             [
              1,
              "#f0f921"
             ]
            ],
            "type": "heatmap"
           }
          ],
          "heatmapgl": [
           {
            "colorbar": {
             "outlinewidth": 0,
             "ticks": ""
            },
            "colorscale": [
             [
              0,
              "#0d0887"
             ],
             [
              0.1111111111111111,
              "#46039f"
             ],
             [
              0.2222222222222222,
              "#7201a8"
             ],
             [
              0.3333333333333333,
              "#9c179e"
             ],
             [
              0.4444444444444444,
              "#bd3786"
             ],
             [
              0.5555555555555556,
              "#d8576b"
             ],
             [
              0.6666666666666666,
              "#ed7953"
             ],
             [
              0.7777777777777778,
              "#fb9f3a"
             ],
             [
              0.8888888888888888,
              "#fdca26"
             ],
             [
              1,
              "#f0f921"
             ]
            ],
            "type": "heatmapgl"
           }
          ],
          "histogram": [
           {
            "marker": {
             "pattern": {
              "fillmode": "overlay",
              "size": 10,
              "solidity": 0.2
             }
            },
            "type": "histogram"
           }
          ],
          "histogram2d": [
           {
            "colorbar": {
             "outlinewidth": 0,
             "ticks": ""
            },
            "colorscale": [
             [
              0,
              "#0d0887"
             ],
             [
              0.1111111111111111,
              "#46039f"
             ],
             [
              0.2222222222222222,
              "#7201a8"
             ],
             [
              0.3333333333333333,
              "#9c179e"
             ],
             [
              0.4444444444444444,
              "#bd3786"
             ],
             [
              0.5555555555555556,
              "#d8576b"
             ],
             [
              0.6666666666666666,
              "#ed7953"
             ],
             [
              0.7777777777777778,
              "#fb9f3a"
             ],
             [
              0.8888888888888888,
              "#fdca26"
             ],
             [
              1,
              "#f0f921"
             ]
            ],
            "type": "histogram2d"
           }
          ],
          "histogram2dcontour": [
           {
            "colorbar": {
             "outlinewidth": 0,
             "ticks": ""
            },
            "colorscale": [
             [
              0,
              "#0d0887"
             ],
             [
              0.1111111111111111,
              "#46039f"
             ],
             [
              0.2222222222222222,
              "#7201a8"
             ],
             [
              0.3333333333333333,
              "#9c179e"
             ],
             [
              0.4444444444444444,
              "#bd3786"
             ],
             [
              0.5555555555555556,
              "#d8576b"
             ],
             [
              0.6666666666666666,
              "#ed7953"
             ],
             [
              0.7777777777777778,
              "#fb9f3a"
             ],
             [
              0.8888888888888888,
              "#fdca26"
             ],
             [
              1,
              "#f0f921"
             ]
            ],
            "type": "histogram2dcontour"
           }
          ],
          "mesh3d": [
           {
            "colorbar": {
             "outlinewidth": 0,
             "ticks": ""
            },
            "type": "mesh3d"
           }
          ],
          "parcoords": [
           {
            "line": {
             "colorbar": {
              "outlinewidth": 0,
              "ticks": ""
             }
            },
            "type": "parcoords"
           }
          ],
          "pie": [
           {
            "automargin": true,
            "type": "pie"
           }
          ],
          "scatter": [
           {
            "fillpattern": {
             "fillmode": "overlay",
             "size": 10,
             "solidity": 0.2
            },
            "type": "scatter"
           }
          ],
          "scatter3d": [
           {
            "line": {
             "colorbar": {
              "outlinewidth": 0,
              "ticks": ""
             }
            },
            "marker": {
             "colorbar": {
              "outlinewidth": 0,
              "ticks": ""
             }
            },
            "type": "scatter3d"
           }
          ],
          "scattercarpet": [
           {
            "marker": {
             "colorbar": {
              "outlinewidth": 0,
              "ticks": ""
             }
            },
            "type": "scattercarpet"
           }
          ],
          "scattergeo": [
           {
            "marker": {
             "colorbar": {
              "outlinewidth": 0,
              "ticks": ""
             }
            },
            "type": "scattergeo"
           }
          ],
          "scattergl": [
           {
            "marker": {
             "colorbar": {
              "outlinewidth": 0,
              "ticks": ""
             }
            },
            "type": "scattergl"
           }
          ],
          "scattermapbox": [
           {
            "marker": {
             "colorbar": {
              "outlinewidth": 0,
              "ticks": ""
             }
            },
            "type": "scattermapbox"
           }
          ],
          "scatterpolar": [
           {
            "marker": {
             "colorbar": {
              "outlinewidth": 0,
              "ticks": ""
             }
            },
            "type": "scatterpolar"
           }
          ],
          "scatterpolargl": [
           {
            "marker": {
             "colorbar": {
              "outlinewidth": 0,
              "ticks": ""
             }
            },
            "type": "scatterpolargl"
           }
          ],
          "scatterternary": [
           {
            "marker": {
             "colorbar": {
              "outlinewidth": 0,
              "ticks": ""
             }
            },
            "type": "scatterternary"
           }
          ],
          "surface": [
           {
            "colorbar": {
             "outlinewidth": 0,
             "ticks": ""
            },
            "colorscale": [
             [
              0,
              "#0d0887"
             ],
             [
              0.1111111111111111,
              "#46039f"
             ],
             [
              0.2222222222222222,
              "#7201a8"
             ],
             [
              0.3333333333333333,
              "#9c179e"
             ],
             [
              0.4444444444444444,
              "#bd3786"
             ],
             [
              0.5555555555555556,
              "#d8576b"
             ],
             [
              0.6666666666666666,
              "#ed7953"
             ],
             [
              0.7777777777777778,
              "#fb9f3a"
             ],
             [
              0.8888888888888888,
              "#fdca26"
             ],
             [
              1,
              "#f0f921"
             ]
            ],
            "type": "surface"
           }
          ],
          "table": [
           {
            "cells": {
             "fill": {
              "color": "#EBF0F8"
             },
             "line": {
              "color": "white"
             }
            },
            "header": {
             "fill": {
              "color": "#C8D4E3"
             },
             "line": {
              "color": "white"
             }
            },
            "type": "table"
           }
          ]
         },
         "layout": {
          "annotationdefaults": {
           "arrowcolor": "#2a3f5f",
           "arrowhead": 0,
           "arrowwidth": 1
          },
          "autotypenumbers": "strict",
          "coloraxis": {
           "colorbar": {
            "outlinewidth": 0,
            "ticks": ""
           }
          },
          "colorscale": {
           "diverging": [
            [
             0,
             "#8e0152"
            ],
            [
             0.1,
             "#c51b7d"
            ],
            [
             0.2,
             "#de77ae"
            ],
            [
             0.3,
             "#f1b6da"
            ],
            [
             0.4,
             "#fde0ef"
            ],
            [
             0.5,
             "#f7f7f7"
            ],
            [
             0.6,
             "#e6f5d0"
            ],
            [
             0.7,
             "#b8e186"
            ],
            [
             0.8,
             "#7fbc41"
            ],
            [
             0.9,
             "#4d9221"
            ],
            [
             1,
             "#276419"
            ]
           ],
           "sequential": [
            [
             0,
             "#0d0887"
            ],
            [
             0.1111111111111111,
             "#46039f"
            ],
            [
             0.2222222222222222,
             "#7201a8"
            ],
            [
             0.3333333333333333,
             "#9c179e"
            ],
            [
             0.4444444444444444,
             "#bd3786"
            ],
            [
             0.5555555555555556,
             "#d8576b"
            ],
            [
             0.6666666666666666,
             "#ed7953"
            ],
            [
             0.7777777777777778,
             "#fb9f3a"
            ],
            [
             0.8888888888888888,
             "#fdca26"
            ],
            [
             1,
             "#f0f921"
            ]
           ],
           "sequentialminus": [
            [
             0,
             "#0d0887"
            ],
            [
             0.1111111111111111,
             "#46039f"
            ],
            [
             0.2222222222222222,
             "#7201a8"
            ],
            [
             0.3333333333333333,
             "#9c179e"
            ],
            [
             0.4444444444444444,
             "#bd3786"
            ],
            [
             0.5555555555555556,
             "#d8576b"
            ],
            [
             0.6666666666666666,
             "#ed7953"
            ],
            [
             0.7777777777777778,
             "#fb9f3a"
            ],
            [
             0.8888888888888888,
             "#fdca26"
            ],
            [
             1,
             "#f0f921"
            ]
           ]
          },
          "colorway": [
           "#636efa",
           "#EF553B",
           "#00cc96",
           "#ab63fa",
           "#FFA15A",
           "#19d3f3",
           "#FF6692",
           "#B6E880",
           "#FF97FF",
           "#FECB52"
          ],
          "font": {
           "color": "#2a3f5f"
          },
          "geo": {
           "bgcolor": "white",
           "lakecolor": "white",
           "landcolor": "#E5ECF6",
           "showlakes": true,
           "showland": true,
           "subunitcolor": "white"
          },
          "hoverlabel": {
           "align": "left"
          },
          "hovermode": "closest",
          "mapbox": {
           "style": "light"
          },
          "paper_bgcolor": "white",
          "plot_bgcolor": "#E5ECF6",
          "polar": {
           "angularaxis": {
            "gridcolor": "white",
            "linecolor": "white",
            "ticks": ""
           },
           "bgcolor": "#E5ECF6",
           "radialaxis": {
            "gridcolor": "white",
            "linecolor": "white",
            "ticks": ""
           }
          },
          "scene": {
           "xaxis": {
            "backgroundcolor": "#E5ECF6",
            "gridcolor": "white",
            "gridwidth": 2,
            "linecolor": "white",
            "showbackground": true,
            "ticks": "",
            "zerolinecolor": "white"
           },
           "yaxis": {
            "backgroundcolor": "#E5ECF6",
            "gridcolor": "white",
            "gridwidth": 2,
            "linecolor": "white",
            "showbackground": true,
            "ticks": "",
            "zerolinecolor": "white"
           },
           "zaxis": {
            "backgroundcolor": "#E5ECF6",
            "gridcolor": "white",
            "gridwidth": 2,
            "linecolor": "white",
            "showbackground": true,
            "ticks": "",
            "zerolinecolor": "white"
           }
          },
          "shapedefaults": {
           "line": {
            "color": "#2a3f5f"
           }
          },
          "ternary": {
           "aaxis": {
            "gridcolor": "white",
            "linecolor": "white",
            "ticks": ""
           },
           "baxis": {
            "gridcolor": "white",
            "linecolor": "white",
            "ticks": ""
           },
           "bgcolor": "#E5ECF6",
           "caxis": {
            "gridcolor": "white",
            "linecolor": "white",
            "ticks": ""
           }
          },
          "title": {
           "x": 0.05
          },
          "xaxis": {
           "automargin": true,
           "gridcolor": "white",
           "linecolor": "white",
           "ticks": "",
           "title": {
            "standoff": 15
           },
           "zerolinecolor": "white",
           "zerolinewidth": 2
          },
          "yaxis": {
           "automargin": true,
           "gridcolor": "white",
           "linecolor": "white",
           "ticks": "",
           "title": {
            "standoff": 15
           },
           "zerolinecolor": "white",
           "zerolinewidth": 2
          }
         }
        },
        "title": {
         "text": "frequencia de respostas 'Renda mensal de sua família'"
        },
        "xaxis": {
         "anchor": "y",
         "domain": [
          0,
          1
         ],
         "title": {
          "text": "x"
         }
        },
        "yaxis": {
         "anchor": "x",
         "domain": [
          0,
          1
         ],
         "title": {
          "text": "index"
         }
        }
       }
      }
     },
     "metadata": {},
     "output_type": "display_data"
    }
   ],
   "source": [
    "renda_info = df['4. Qual é a renda mensal de sua família? (valor do salário mínimo R$1.212)'].value_counts().sort_values(ascending=True)\n",
    "# renda_info = sorted(renda_info)\n",
    "\n",
    "fig = px.bar(\n",
    "    renda_info,\n",
    "    y=renda_info.index,\n",
    "    x=renda_info.values,\n",
    "    title=\"frequencia de respostas 'Renda mensal de sua família'\",\n",
    "    orientation='h',\n",
    ")\n",
    "\n",
    "fig.show()"
   ]
  },
  {
   "cell_type": "code",
   "execution_count": 15,
   "metadata": {},
   "outputs": [
    {
     "data": {
      "application/vnd.plotly.v1+json": {
       "config": {
        "plotlyServerURL": "https://plot.ly"
       },
       "data": [
        {
         "alignmentgroup": "True",
         "hovertemplate": "x=%{x}<br>index=%{y}<extra></extra>",
         "legendgroup": "",
         "marker": {
          "color": "#636efa",
          "pattern": {
           "shape": ""
          }
         },
         "name": "",
         "offsetgroup": "",
         "orientation": "h",
         "showlegend": false,
         "textposition": "auto",
         "type": "bar",
         "x": [
          63,
          207,
          2790,
          4135
         ],
         "xaxis": "x",
         "y": [
          "Não tenho família",
          "Mais de seis pessoas",
          "De uma a três pessoas",
          "De quatro a seis pessoas"
         ],
         "yaxis": "y"
        }
       ],
       "layout": {
        "barmode": "relative",
        "legend": {
         "tracegroupgap": 0
        },
        "template": {
         "data": {
          "bar": [
           {
            "error_x": {
             "color": "#2a3f5f"
            },
            "error_y": {
             "color": "#2a3f5f"
            },
            "marker": {
             "line": {
              "color": "#E5ECF6",
              "width": 0.5
             },
             "pattern": {
              "fillmode": "overlay",
              "size": 10,
              "solidity": 0.2
             }
            },
            "type": "bar"
           }
          ],
          "barpolar": [
           {
            "marker": {
             "line": {
              "color": "#E5ECF6",
              "width": 0.5
             },
             "pattern": {
              "fillmode": "overlay",
              "size": 10,
              "solidity": 0.2
             }
            },
            "type": "barpolar"
           }
          ],
          "carpet": [
           {
            "aaxis": {
             "endlinecolor": "#2a3f5f",
             "gridcolor": "white",
             "linecolor": "white",
             "minorgridcolor": "white",
             "startlinecolor": "#2a3f5f"
            },
            "baxis": {
             "endlinecolor": "#2a3f5f",
             "gridcolor": "white",
             "linecolor": "white",
             "minorgridcolor": "white",
             "startlinecolor": "#2a3f5f"
            },
            "type": "carpet"
           }
          ],
          "choropleth": [
           {
            "colorbar": {
             "outlinewidth": 0,
             "ticks": ""
            },
            "type": "choropleth"
           }
          ],
          "contour": [
           {
            "colorbar": {
             "outlinewidth": 0,
             "ticks": ""
            },
            "colorscale": [
             [
              0,
              "#0d0887"
             ],
             [
              0.1111111111111111,
              "#46039f"
             ],
             [
              0.2222222222222222,
              "#7201a8"
             ],
             [
              0.3333333333333333,
              "#9c179e"
             ],
             [
              0.4444444444444444,
              "#bd3786"
             ],
             [
              0.5555555555555556,
              "#d8576b"
             ],
             [
              0.6666666666666666,
              "#ed7953"
             ],
             [
              0.7777777777777778,
              "#fb9f3a"
             ],
             [
              0.8888888888888888,
              "#fdca26"
             ],
             [
              1,
              "#f0f921"
             ]
            ],
            "type": "contour"
           }
          ],
          "contourcarpet": [
           {
            "colorbar": {
             "outlinewidth": 0,
             "ticks": ""
            },
            "type": "contourcarpet"
           }
          ],
          "heatmap": [
           {
            "colorbar": {
             "outlinewidth": 0,
             "ticks": ""
            },
            "colorscale": [
             [
              0,
              "#0d0887"
             ],
             [
              0.1111111111111111,
              "#46039f"
             ],
             [
              0.2222222222222222,
              "#7201a8"
             ],
             [
              0.3333333333333333,
              "#9c179e"
             ],
             [
              0.4444444444444444,
              "#bd3786"
             ],
             [
              0.5555555555555556,
              "#d8576b"
             ],
             [
              0.6666666666666666,
              "#ed7953"
             ],
             [
              0.7777777777777778,
              "#fb9f3a"
             ],
             [
              0.8888888888888888,
              "#fdca26"
             ],
             [
              1,
              "#f0f921"
             ]
            ],
            "type": "heatmap"
           }
          ],
          "heatmapgl": [
           {
            "colorbar": {
             "outlinewidth": 0,
             "ticks": ""
            },
            "colorscale": [
             [
              0,
              "#0d0887"
             ],
             [
              0.1111111111111111,
              "#46039f"
             ],
             [
              0.2222222222222222,
              "#7201a8"
             ],
             [
              0.3333333333333333,
              "#9c179e"
             ],
             [
              0.4444444444444444,
              "#bd3786"
             ],
             [
              0.5555555555555556,
              "#d8576b"
             ],
             [
              0.6666666666666666,
              "#ed7953"
             ],
             [
              0.7777777777777778,
              "#fb9f3a"
             ],
             [
              0.8888888888888888,
              "#fdca26"
             ],
             [
              1,
              "#f0f921"
             ]
            ],
            "type": "heatmapgl"
           }
          ],
          "histogram": [
           {
            "marker": {
             "pattern": {
              "fillmode": "overlay",
              "size": 10,
              "solidity": 0.2
             }
            },
            "type": "histogram"
           }
          ],
          "histogram2d": [
           {
            "colorbar": {
             "outlinewidth": 0,
             "ticks": ""
            },
            "colorscale": [
             [
              0,
              "#0d0887"
             ],
             [
              0.1111111111111111,
              "#46039f"
             ],
             [
              0.2222222222222222,
              "#7201a8"
             ],
             [
              0.3333333333333333,
              "#9c179e"
             ],
             [
              0.4444444444444444,
              "#bd3786"
             ],
             [
              0.5555555555555556,
              "#d8576b"
             ],
             [
              0.6666666666666666,
              "#ed7953"
             ],
             [
              0.7777777777777778,
              "#fb9f3a"
             ],
             [
              0.8888888888888888,
              "#fdca26"
             ],
             [
              1,
              "#f0f921"
             ]
            ],
            "type": "histogram2d"
           }
          ],
          "histogram2dcontour": [
           {
            "colorbar": {
             "outlinewidth": 0,
             "ticks": ""
            },
            "colorscale": [
             [
              0,
              "#0d0887"
             ],
             [
              0.1111111111111111,
              "#46039f"
             ],
             [
              0.2222222222222222,
              "#7201a8"
             ],
             [
              0.3333333333333333,
              "#9c179e"
             ],
             [
              0.4444444444444444,
              "#bd3786"
             ],
             [
              0.5555555555555556,
              "#d8576b"
             ],
             [
              0.6666666666666666,
              "#ed7953"
             ],
             [
              0.7777777777777778,
              "#fb9f3a"
             ],
             [
              0.8888888888888888,
              "#fdca26"
             ],
             [
              1,
              "#f0f921"
             ]
            ],
            "type": "histogram2dcontour"
           }
          ],
          "mesh3d": [
           {
            "colorbar": {
             "outlinewidth": 0,
             "ticks": ""
            },
            "type": "mesh3d"
           }
          ],
          "parcoords": [
           {
            "line": {
             "colorbar": {
              "outlinewidth": 0,
              "ticks": ""
             }
            },
            "type": "parcoords"
           }
          ],
          "pie": [
           {
            "automargin": true,
            "type": "pie"
           }
          ],
          "scatter": [
           {
            "fillpattern": {
             "fillmode": "overlay",
             "size": 10,
             "solidity": 0.2
            },
            "type": "scatter"
           }
          ],
          "scatter3d": [
           {
            "line": {
             "colorbar": {
              "outlinewidth": 0,
              "ticks": ""
             }
            },
            "marker": {
             "colorbar": {
              "outlinewidth": 0,
              "ticks": ""
             }
            },
            "type": "scatter3d"
           }
          ],
          "scattercarpet": [
           {
            "marker": {
             "colorbar": {
              "outlinewidth": 0,
              "ticks": ""
             }
            },
            "type": "scattercarpet"
           }
          ],
          "scattergeo": [
           {
            "marker": {
             "colorbar": {
              "outlinewidth": 0,
              "ticks": ""
             }
            },
            "type": "scattergeo"
           }
          ],
          "scattergl": [
           {
            "marker": {
             "colorbar": {
              "outlinewidth": 0,
              "ticks": ""
             }
            },
            "type": "scattergl"
           }
          ],
          "scattermapbox": [
           {
            "marker": {
             "colorbar": {
              "outlinewidth": 0,
              "ticks": ""
             }
            },
            "type": "scattermapbox"
           }
          ],
          "scatterpolar": [
           {
            "marker": {
             "colorbar": {
              "outlinewidth": 0,
              "ticks": ""
             }
            },
            "type": "scatterpolar"
           }
          ],
          "scatterpolargl": [
           {
            "marker": {
             "colorbar": {
              "outlinewidth": 0,
              "ticks": ""
             }
            },
            "type": "scatterpolargl"
           }
          ],
          "scatterternary": [
           {
            "marker": {
             "colorbar": {
              "outlinewidth": 0,
              "ticks": ""
             }
            },
            "type": "scatterternary"
           }
          ],
          "surface": [
           {
            "colorbar": {
             "outlinewidth": 0,
             "ticks": ""
            },
            "colorscale": [
             [
              0,
              "#0d0887"
             ],
             [
              0.1111111111111111,
              "#46039f"
             ],
             [
              0.2222222222222222,
              "#7201a8"
             ],
             [
              0.3333333333333333,
              "#9c179e"
             ],
             [
              0.4444444444444444,
              "#bd3786"
             ],
             [
              0.5555555555555556,
              "#d8576b"
             ],
             [
              0.6666666666666666,
              "#ed7953"
             ],
             [
              0.7777777777777778,
              "#fb9f3a"
             ],
             [
              0.8888888888888888,
              "#fdca26"
             ],
             [
              1,
              "#f0f921"
             ]
            ],
            "type": "surface"
           }
          ],
          "table": [
           {
            "cells": {
             "fill": {
              "color": "#EBF0F8"
             },
             "line": {
              "color": "white"
             }
            },
            "header": {
             "fill": {
              "color": "#C8D4E3"
             },
             "line": {
              "color": "white"
             }
            },
            "type": "table"
           }
          ]
         },
         "layout": {
          "annotationdefaults": {
           "arrowcolor": "#2a3f5f",
           "arrowhead": 0,
           "arrowwidth": 1
          },
          "autotypenumbers": "strict",
          "coloraxis": {
           "colorbar": {
            "outlinewidth": 0,
            "ticks": ""
           }
          },
          "colorscale": {
           "diverging": [
            [
             0,
             "#8e0152"
            ],
            [
             0.1,
             "#c51b7d"
            ],
            [
             0.2,
             "#de77ae"
            ],
            [
             0.3,
             "#f1b6da"
            ],
            [
             0.4,
             "#fde0ef"
            ],
            [
             0.5,
             "#f7f7f7"
            ],
            [
             0.6,
             "#e6f5d0"
            ],
            [
             0.7,
             "#b8e186"
            ],
            [
             0.8,
             "#7fbc41"
            ],
            [
             0.9,
             "#4d9221"
            ],
            [
             1,
             "#276419"
            ]
           ],
           "sequential": [
            [
             0,
             "#0d0887"
            ],
            [
             0.1111111111111111,
             "#46039f"
            ],
            [
             0.2222222222222222,
             "#7201a8"
            ],
            [
             0.3333333333333333,
             "#9c179e"
            ],
            [
             0.4444444444444444,
             "#bd3786"
            ],
            [
             0.5555555555555556,
             "#d8576b"
            ],
            [
             0.6666666666666666,
             "#ed7953"
            ],
            [
             0.7777777777777778,
             "#fb9f3a"
            ],
            [
             0.8888888888888888,
             "#fdca26"
            ],
            [
             1,
             "#f0f921"
            ]
           ],
           "sequentialminus": [
            [
             0,
             "#0d0887"
            ],
            [
             0.1111111111111111,
             "#46039f"
            ],
            [
             0.2222222222222222,
             "#7201a8"
            ],
            [
             0.3333333333333333,
             "#9c179e"
            ],
            [
             0.4444444444444444,
             "#bd3786"
            ],
            [
             0.5555555555555556,
             "#d8576b"
            ],
            [
             0.6666666666666666,
             "#ed7953"
            ],
            [
             0.7777777777777778,
             "#fb9f3a"
            ],
            [
             0.8888888888888888,
             "#fdca26"
            ],
            [
             1,
             "#f0f921"
            ]
           ]
          },
          "colorway": [
           "#636efa",
           "#EF553B",
           "#00cc96",
           "#ab63fa",
           "#FFA15A",
           "#19d3f3",
           "#FF6692",
           "#B6E880",
           "#FF97FF",
           "#FECB52"
          ],
          "font": {
           "color": "#2a3f5f"
          },
          "geo": {
           "bgcolor": "white",
           "lakecolor": "white",
           "landcolor": "#E5ECF6",
           "showlakes": true,
           "showland": true,
           "subunitcolor": "white"
          },
          "hoverlabel": {
           "align": "left"
          },
          "hovermode": "closest",
          "mapbox": {
           "style": "light"
          },
          "paper_bgcolor": "white",
          "plot_bgcolor": "#E5ECF6",
          "polar": {
           "angularaxis": {
            "gridcolor": "white",
            "linecolor": "white",
            "ticks": ""
           },
           "bgcolor": "#E5ECF6",
           "radialaxis": {
            "gridcolor": "white",
            "linecolor": "white",
            "ticks": ""
           }
          },
          "scene": {
           "xaxis": {
            "backgroundcolor": "#E5ECF6",
            "gridcolor": "white",
            "gridwidth": 2,
            "linecolor": "white",
            "showbackground": true,
            "ticks": "",
            "zerolinecolor": "white"
           },
           "yaxis": {
            "backgroundcolor": "#E5ECF6",
            "gridcolor": "white",
            "gridwidth": 2,
            "linecolor": "white",
            "showbackground": true,
            "ticks": "",
            "zerolinecolor": "white"
           },
           "zaxis": {
            "backgroundcolor": "#E5ECF6",
            "gridcolor": "white",
            "gridwidth": 2,
            "linecolor": "white",
            "showbackground": true,
            "ticks": "",
            "zerolinecolor": "white"
           }
          },
          "shapedefaults": {
           "line": {
            "color": "#2a3f5f"
           }
          },
          "ternary": {
           "aaxis": {
            "gridcolor": "white",
            "linecolor": "white",
            "ticks": ""
           },
           "baxis": {
            "gridcolor": "white",
            "linecolor": "white",
            "ticks": ""
           },
           "bgcolor": "#E5ECF6",
           "caxis": {
            "gridcolor": "white",
            "linecolor": "white",
            "ticks": ""
           }
          },
          "title": {
           "x": 0.05
          },
          "xaxis": {
           "automargin": true,
           "gridcolor": "white",
           "linecolor": "white",
           "ticks": "",
           "title": {
            "standoff": 15
           },
           "zerolinecolor": "white",
           "zerolinewidth": 2
          },
          "yaxis": {
           "automargin": true,
           "gridcolor": "white",
           "linecolor": "white",
           "ticks": "",
           "title": {
            "standoff": 15
           },
           "zerolinecolor": "white",
           "zerolinewidth": 2
          }
         }
        },
        "title": {
         "text": "frequencia de respostas 'Habitantes da residencia'"
        },
        "xaxis": {
         "anchor": "y",
         "domain": [
          0,
          1
         ],
         "title": {
          "text": "x"
         }
        },
        "yaxis": {
         "anchor": "x",
         "domain": [
          0,
          1
         ],
         "title": {
          "text": "index"
         }
        }
       }
      }
     },
     "metadata": {},
     "output_type": "display_data"
    }
   ],
   "source": [
    "qtdfamilia_info = df['3. Incluindo você, quantos membros da sua família habitam a mesma residência?'].value_counts().sort_values(ascending=True)\n",
    "# qtdfamilia_info = sorted(qtdfamilia_info)\n",
    "\n",
    "fig = px.bar(\n",
    "    qtdfamilia_info,\n",
    "    y=qtdfamilia_info.index,\n",
    "    x=qtdfamilia_info.values,\n",
    "    title=\"frequencia de respostas 'Habitantes da residencia'\",\n",
    "    orientation='h',\n",
    ")\n",
    "\n",
    "fig.show()"
   ]
  },
  {
   "cell_type": "code",
   "execution_count": 16,
   "metadata": {},
   "outputs": [
    {
     "data": {
      "application/vnd.plotly.v1+json": {
       "config": {
        "plotlyServerURL": "https://plot.ly"
       },
       "data": [
        {
         "alignmentgroup": "True",
         "hovertemplate": "x=%{x}<br>index=%{y}<extra></extra>",
         "legendgroup": "",
         "marker": {
          "color": "#636efa",
          "pattern": {
           "shape": ""
          }
         },
         "name": "",
         "offsetgroup": "",
         "orientation": "h",
         "showlegend": false,
         "textposition": "auto",
         "type": "bar",
         "x": [
          35,
          112,
          993,
          1674,
          4381
         ],
         "xaxis": "x",
         "y": [
          "Indígena",
          "Amarelo(a)",
          "Preto(a)",
          "Branco(a)",
          "Pardo(a)"
         ],
         "yaxis": "y"
        }
       ],
       "layout": {
        "barmode": "relative",
        "legend": {
         "tracegroupgap": 0
        },
        "template": {
         "data": {
          "bar": [
           {
            "error_x": {
             "color": "#2a3f5f"
            },
            "error_y": {
             "color": "#2a3f5f"
            },
            "marker": {
             "line": {
              "color": "#E5ECF6",
              "width": 0.5
             },
             "pattern": {
              "fillmode": "overlay",
              "size": 10,
              "solidity": 0.2
             }
            },
            "type": "bar"
           }
          ],
          "barpolar": [
           {
            "marker": {
             "line": {
              "color": "#E5ECF6",
              "width": 0.5
             },
             "pattern": {
              "fillmode": "overlay",
              "size": 10,
              "solidity": 0.2
             }
            },
            "type": "barpolar"
           }
          ],
          "carpet": [
           {
            "aaxis": {
             "endlinecolor": "#2a3f5f",
             "gridcolor": "white",
             "linecolor": "white",
             "minorgridcolor": "white",
             "startlinecolor": "#2a3f5f"
            },
            "baxis": {
             "endlinecolor": "#2a3f5f",
             "gridcolor": "white",
             "linecolor": "white",
             "minorgridcolor": "white",
             "startlinecolor": "#2a3f5f"
            },
            "type": "carpet"
           }
          ],
          "choropleth": [
           {
            "colorbar": {
             "outlinewidth": 0,
             "ticks": ""
            },
            "type": "choropleth"
           }
          ],
          "contour": [
           {
            "colorbar": {
             "outlinewidth": 0,
             "ticks": ""
            },
            "colorscale": [
             [
              0,
              "#0d0887"
             ],
             [
              0.1111111111111111,
              "#46039f"
             ],
             [
              0.2222222222222222,
              "#7201a8"
             ],
             [
              0.3333333333333333,
              "#9c179e"
             ],
             [
              0.4444444444444444,
              "#bd3786"
             ],
             [
              0.5555555555555556,
              "#d8576b"
             ],
             [
              0.6666666666666666,
              "#ed7953"
             ],
             [
              0.7777777777777778,
              "#fb9f3a"
             ],
             [
              0.8888888888888888,
              "#fdca26"
             ],
             [
              1,
              "#f0f921"
             ]
            ],
            "type": "contour"
           }
          ],
          "contourcarpet": [
           {
            "colorbar": {
             "outlinewidth": 0,
             "ticks": ""
            },
            "type": "contourcarpet"
           }
          ],
          "heatmap": [
           {
            "colorbar": {
             "outlinewidth": 0,
             "ticks": ""
            },
            "colorscale": [
             [
              0,
              "#0d0887"
             ],
             [
              0.1111111111111111,
              "#46039f"
             ],
             [
              0.2222222222222222,
              "#7201a8"
             ],
             [
              0.3333333333333333,
              "#9c179e"
             ],
             [
              0.4444444444444444,
              "#bd3786"
             ],
             [
              0.5555555555555556,
              "#d8576b"
             ],
             [
              0.6666666666666666,
              "#ed7953"
             ],
             [
              0.7777777777777778,
              "#fb9f3a"
             ],
             [
              0.8888888888888888,
              "#fdca26"
             ],
             [
              1,
              "#f0f921"
             ]
            ],
            "type": "heatmap"
           }
          ],
          "heatmapgl": [
           {
            "colorbar": {
             "outlinewidth": 0,
             "ticks": ""
            },
            "colorscale": [
             [
              0,
              "#0d0887"
             ],
             [
              0.1111111111111111,
              "#46039f"
             ],
             [
              0.2222222222222222,
              "#7201a8"
             ],
             [
              0.3333333333333333,
              "#9c179e"
             ],
             [
              0.4444444444444444,
              "#bd3786"
             ],
             [
              0.5555555555555556,
              "#d8576b"
             ],
             [
              0.6666666666666666,
              "#ed7953"
             ],
             [
              0.7777777777777778,
              "#fb9f3a"
             ],
             [
              0.8888888888888888,
              "#fdca26"
             ],
             [
              1,
              "#f0f921"
             ]
            ],
            "type": "heatmapgl"
           }
          ],
          "histogram": [
           {
            "marker": {
             "pattern": {
              "fillmode": "overlay",
              "size": 10,
              "solidity": 0.2
             }
            },
            "type": "histogram"
           }
          ],
          "histogram2d": [
           {
            "colorbar": {
             "outlinewidth": 0,
             "ticks": ""
            },
            "colorscale": [
             [
              0,
              "#0d0887"
             ],
             [
              0.1111111111111111,
              "#46039f"
             ],
             [
              0.2222222222222222,
              "#7201a8"
             ],
             [
              0.3333333333333333,
              "#9c179e"
             ],
             [
              0.4444444444444444,
              "#bd3786"
             ],
             [
              0.5555555555555556,
              "#d8576b"
             ],
             [
              0.6666666666666666,
              "#ed7953"
             ],
             [
              0.7777777777777778,
              "#fb9f3a"
             ],
             [
              0.8888888888888888,
              "#fdca26"
             ],
             [
              1,
              "#f0f921"
             ]
            ],
            "type": "histogram2d"
           }
          ],
          "histogram2dcontour": [
           {
            "colorbar": {
             "outlinewidth": 0,
             "ticks": ""
            },
            "colorscale": [
             [
              0,
              "#0d0887"
             ],
             [
              0.1111111111111111,
              "#46039f"
             ],
             [
              0.2222222222222222,
              "#7201a8"
             ],
             [
              0.3333333333333333,
              "#9c179e"
             ],
             [
              0.4444444444444444,
              "#bd3786"
             ],
             [
              0.5555555555555556,
              "#d8576b"
             ],
             [
              0.6666666666666666,
              "#ed7953"
             ],
             [
              0.7777777777777778,
              "#fb9f3a"
             ],
             [
              0.8888888888888888,
              "#fdca26"
             ],
             [
              1,
              "#f0f921"
             ]
            ],
            "type": "histogram2dcontour"
           }
          ],
          "mesh3d": [
           {
            "colorbar": {
             "outlinewidth": 0,
             "ticks": ""
            },
            "type": "mesh3d"
           }
          ],
          "parcoords": [
           {
            "line": {
             "colorbar": {
              "outlinewidth": 0,
              "ticks": ""
             }
            },
            "type": "parcoords"
           }
          ],
          "pie": [
           {
            "automargin": true,
            "type": "pie"
           }
          ],
          "scatter": [
           {
            "fillpattern": {
             "fillmode": "overlay",
             "size": 10,
             "solidity": 0.2
            },
            "type": "scatter"
           }
          ],
          "scatter3d": [
           {
            "line": {
             "colorbar": {
              "outlinewidth": 0,
              "ticks": ""
             }
            },
            "marker": {
             "colorbar": {
              "outlinewidth": 0,
              "ticks": ""
             }
            },
            "type": "scatter3d"
           }
          ],
          "scattercarpet": [
           {
            "marker": {
             "colorbar": {
              "outlinewidth": 0,
              "ticks": ""
             }
            },
            "type": "scattercarpet"
           }
          ],
          "scattergeo": [
           {
            "marker": {
             "colorbar": {
              "outlinewidth": 0,
              "ticks": ""
             }
            },
            "type": "scattergeo"
           }
          ],
          "scattergl": [
           {
            "marker": {
             "colorbar": {
              "outlinewidth": 0,
              "ticks": ""
             }
            },
            "type": "scattergl"
           }
          ],
          "scattermapbox": [
           {
            "marker": {
             "colorbar": {
              "outlinewidth": 0,
              "ticks": ""
             }
            },
            "type": "scattermapbox"
           }
          ],
          "scatterpolar": [
           {
            "marker": {
             "colorbar": {
              "outlinewidth": 0,
              "ticks": ""
             }
            },
            "type": "scatterpolar"
           }
          ],
          "scatterpolargl": [
           {
            "marker": {
             "colorbar": {
              "outlinewidth": 0,
              "ticks": ""
             }
            },
            "type": "scatterpolargl"
           }
          ],
          "scatterternary": [
           {
            "marker": {
             "colorbar": {
              "outlinewidth": 0,
              "ticks": ""
             }
            },
            "type": "scatterternary"
           }
          ],
          "surface": [
           {
            "colorbar": {
             "outlinewidth": 0,
             "ticks": ""
            },
            "colorscale": [
             [
              0,
              "#0d0887"
             ],
             [
              0.1111111111111111,
              "#46039f"
             ],
             [
              0.2222222222222222,
              "#7201a8"
             ],
             [
              0.3333333333333333,
              "#9c179e"
             ],
             [
              0.4444444444444444,
              "#bd3786"
             ],
             [
              0.5555555555555556,
              "#d8576b"
             ],
             [
              0.6666666666666666,
              "#ed7953"
             ],
             [
              0.7777777777777778,
              "#fb9f3a"
             ],
             [
              0.8888888888888888,
              "#fdca26"
             ],
             [
              1,
              "#f0f921"
             ]
            ],
            "type": "surface"
           }
          ],
          "table": [
           {
            "cells": {
             "fill": {
              "color": "#EBF0F8"
             },
             "line": {
              "color": "white"
             }
            },
            "header": {
             "fill": {
              "color": "#C8D4E3"
             },
             "line": {
              "color": "white"
             }
            },
            "type": "table"
           }
          ]
         },
         "layout": {
          "annotationdefaults": {
           "arrowcolor": "#2a3f5f",
           "arrowhead": 0,
           "arrowwidth": 1
          },
          "autotypenumbers": "strict",
          "coloraxis": {
           "colorbar": {
            "outlinewidth": 0,
            "ticks": ""
           }
          },
          "colorscale": {
           "diverging": [
            [
             0,
             "#8e0152"
            ],
            [
             0.1,
             "#c51b7d"
            ],
            [
             0.2,
             "#de77ae"
            ],
            [
             0.3,
             "#f1b6da"
            ],
            [
             0.4,
             "#fde0ef"
            ],
            [
             0.5,
             "#f7f7f7"
            ],
            [
             0.6,
             "#e6f5d0"
            ],
            [
             0.7,
             "#b8e186"
            ],
            [
             0.8,
             "#7fbc41"
            ],
            [
             0.9,
             "#4d9221"
            ],
            [
             1,
             "#276419"
            ]
           ],
           "sequential": [
            [
             0,
             "#0d0887"
            ],
            [
             0.1111111111111111,
             "#46039f"
            ],
            [
             0.2222222222222222,
             "#7201a8"
            ],
            [
             0.3333333333333333,
             "#9c179e"
            ],
            [
             0.4444444444444444,
             "#bd3786"
            ],
            [
             0.5555555555555556,
             "#d8576b"
            ],
            [
             0.6666666666666666,
             "#ed7953"
            ],
            [
             0.7777777777777778,
             "#fb9f3a"
            ],
            [
             0.8888888888888888,
             "#fdca26"
            ],
            [
             1,
             "#f0f921"
            ]
           ],
           "sequentialminus": [
            [
             0,
             "#0d0887"
            ],
            [
             0.1111111111111111,
             "#46039f"
            ],
            [
             0.2222222222222222,
             "#7201a8"
            ],
            [
             0.3333333333333333,
             "#9c179e"
            ],
            [
             0.4444444444444444,
             "#bd3786"
            ],
            [
             0.5555555555555556,
             "#d8576b"
            ],
            [
             0.6666666666666666,
             "#ed7953"
            ],
            [
             0.7777777777777778,
             "#fb9f3a"
            ],
            [
             0.8888888888888888,
             "#fdca26"
            ],
            [
             1,
             "#f0f921"
            ]
           ]
          },
          "colorway": [
           "#636efa",
           "#EF553B",
           "#00cc96",
           "#ab63fa",
           "#FFA15A",
           "#19d3f3",
           "#FF6692",
           "#B6E880",
           "#FF97FF",
           "#FECB52"
          ],
          "font": {
           "color": "#2a3f5f"
          },
          "geo": {
           "bgcolor": "white",
           "lakecolor": "white",
           "landcolor": "#E5ECF6",
           "showlakes": true,
           "showland": true,
           "subunitcolor": "white"
          },
          "hoverlabel": {
           "align": "left"
          },
          "hovermode": "closest",
          "mapbox": {
           "style": "light"
          },
          "paper_bgcolor": "white",
          "plot_bgcolor": "#E5ECF6",
          "polar": {
           "angularaxis": {
            "gridcolor": "white",
            "linecolor": "white",
            "ticks": ""
           },
           "bgcolor": "#E5ECF6",
           "radialaxis": {
            "gridcolor": "white",
            "linecolor": "white",
            "ticks": ""
           }
          },
          "scene": {
           "xaxis": {
            "backgroundcolor": "#E5ECF6",
            "gridcolor": "white",
            "gridwidth": 2,
            "linecolor": "white",
            "showbackground": true,
            "ticks": "",
            "zerolinecolor": "white"
           },
           "yaxis": {
            "backgroundcolor": "#E5ECF6",
            "gridcolor": "white",
            "gridwidth": 2,
            "linecolor": "white",
            "showbackground": true,
            "ticks": "",
            "zerolinecolor": "white"
           },
           "zaxis": {
            "backgroundcolor": "#E5ECF6",
            "gridcolor": "white",
            "gridwidth": 2,
            "linecolor": "white",
            "showbackground": true,
            "ticks": "",
            "zerolinecolor": "white"
           }
          },
          "shapedefaults": {
           "line": {
            "color": "#2a3f5f"
           }
          },
          "ternary": {
           "aaxis": {
            "gridcolor": "white",
            "linecolor": "white",
            "ticks": ""
           },
           "baxis": {
            "gridcolor": "white",
            "linecolor": "white",
            "ticks": ""
           },
           "bgcolor": "#E5ECF6",
           "caxis": {
            "gridcolor": "white",
            "linecolor": "white",
            "ticks": ""
           }
          },
          "title": {
           "x": 0.05
          },
          "xaxis": {
           "automargin": true,
           "gridcolor": "white",
           "linecolor": "white",
           "ticks": "",
           "title": {
            "standoff": 15
           },
           "zerolinecolor": "white",
           "zerolinewidth": 2
          },
          "yaxis": {
           "automargin": true,
           "gridcolor": "white",
           "linecolor": "white",
           "ticks": "",
           "title": {
            "standoff": 15
           },
           "zerolinecolor": "white",
           "zerolinewidth": 2
          }
         }
        },
        "title": {
         "text": "frequencia de respostas 'Raça'"
        },
        "xaxis": {
         "anchor": "y",
         "domain": [
          0,
          1
         ],
         "title": {
          "text": "x"
         }
        },
        "yaxis": {
         "anchor": "x",
         "domain": [
          0,
          1
         ],
         "title": {
          "text": "index"
         }
        }
       }
      }
     },
     "metadata": {},
     "output_type": "display_data"
    }
   ],
   "source": [
    "raca_info = df['10. Você se considera:'].value_counts().sort_values(ascending=True)\n",
    "# raca_info = sorted(raca_info)\n",
    "\n",
    "fig = px.bar(\n",
    "    raca_info,\n",
    "    y=raca_info.index,\n",
    "    x=raca_info.values,\n",
    "    title=\"frequencia de respostas 'Raça'\",\n",
    "    orientation='h',\n",
    ")\n",
    "\n",
    "fig.show()"
   ]
  },
  {
   "cell_type": "code",
   "execution_count": 17,
   "metadata": {},
   "outputs": [
    {
     "data": {
      "text/html": [
       "<div>\n",
       "<style scoped>\n",
       "    .dataframe tbody tr th:only-of-type {\n",
       "        vertical-align: middle;\n",
       "    }\n",
       "\n",
       "    .dataframe tbody tr th {\n",
       "        vertical-align: top;\n",
       "    }\n",
       "\n",
       "    .dataframe thead th {\n",
       "        text-align: right;\n",
       "    }\n",
       "</style>\n",
       "<table border=\"1\" class=\"dataframe\">\n",
       "  <thead>\n",
       "    <tr style=\"text-align: right;\">\n",
       "      <th></th>\n",
       "      <th>4. Qual é a renda mensal de sua família? (valor do salário mínimo R$1.212)</th>\n",
       "      <th>3. Incluindo você, quantos membros da sua família habitam a mesma residência?</th>\n",
       "      <th>10. Você se considera:</th>\n",
       "      <th>Inscrição</th>\n",
       "    </tr>\n",
       "  </thead>\n",
       "  <tbody>\n",
       "    <tr>\n",
       "      <th>0</th>\n",
       "      <td>renda familiar per capta de dois e meio até tr...</td>\n",
       "      <td>De quatro a seis pessoas</td>\n",
       "      <td>Amarelo(a)</td>\n",
       "      <td>1</td>\n",
       "    </tr>\n",
       "    <tr>\n",
       "      <th>1</th>\n",
       "      <td>renda familiar per capta de dois e meio até tr...</td>\n",
       "      <td>De quatro a seis pessoas</td>\n",
       "      <td>Branco(a)</td>\n",
       "      <td>74</td>\n",
       "    </tr>\n",
       "    <tr>\n",
       "      <th>2</th>\n",
       "      <td>renda familiar per capta de dois e meio até tr...</td>\n",
       "      <td>De quatro a seis pessoas</td>\n",
       "      <td>Indígena</td>\n",
       "      <td>1</td>\n",
       "    </tr>\n",
       "    <tr>\n",
       "      <th>3</th>\n",
       "      <td>renda familiar per capta de dois e meio até tr...</td>\n",
       "      <td>De quatro a seis pessoas</td>\n",
       "      <td>Pardo(a)</td>\n",
       "      <td>144</td>\n",
       "    </tr>\n",
       "    <tr>\n",
       "      <th>4</th>\n",
       "      <td>renda familiar per capta de dois e meio até tr...</td>\n",
       "      <td>De quatro a seis pessoas</td>\n",
       "      <td>Preto(a)</td>\n",
       "      <td>34</td>\n",
       "    </tr>\n",
       "    <tr>\n",
       "      <th>...</th>\n",
       "      <td>...</td>\n",
       "      <td>...</td>\n",
       "      <td>...</td>\n",
       "      <td>...</td>\n",
       "    </tr>\n",
       "    <tr>\n",
       "      <th>92</th>\n",
       "      <td>renda familiar per capta maior que três salári...</td>\n",
       "      <td>Mais de seis pessoas</td>\n",
       "      <td>Pardo(a)</td>\n",
       "      <td>6</td>\n",
       "    </tr>\n",
       "    <tr>\n",
       "      <th>93</th>\n",
       "      <td>renda familiar per capta maior que três salári...</td>\n",
       "      <td>Mais de seis pessoas</td>\n",
       "      <td>Preto(a)</td>\n",
       "      <td>1</td>\n",
       "    </tr>\n",
       "    <tr>\n",
       "      <th>94</th>\n",
       "      <td>renda familiar per capta maior que três salári...</td>\n",
       "      <td>Não tenho família</td>\n",
       "      <td>Branco(a)</td>\n",
       "      <td>1</td>\n",
       "    </tr>\n",
       "    <tr>\n",
       "      <th>95</th>\n",
       "      <td>renda familiar per capta maior que três salári...</td>\n",
       "      <td>Não tenho família</td>\n",
       "      <td>Pardo(a)</td>\n",
       "      <td>1</td>\n",
       "    </tr>\n",
       "    <tr>\n",
       "      <th>96</th>\n",
       "      <td>renda familiar per capta maior que três salári...</td>\n",
       "      <td>Não tenho família</td>\n",
       "      <td>Preto(a)</td>\n",
       "      <td>2</td>\n",
       "    </tr>\n",
       "  </tbody>\n",
       "</table>\n",
       "<p>97 rows × 4 columns</p>\n",
       "</div>"
      ],
      "text/plain": [
       "   4. Qual é a renda mensal de sua família? (valor do salário mínimo R$1.212)  \\\n",
       "0   renda familiar per capta de dois e meio até tr...                           \n",
       "1   renda familiar per capta de dois e meio até tr...                           \n",
       "2   renda familiar per capta de dois e meio até tr...                           \n",
       "3   renda familiar per capta de dois e meio até tr...                           \n",
       "4   renda familiar per capta de dois e meio até tr...                           \n",
       "..                                                ...                           \n",
       "92  renda familiar per capta maior que três salári...                           \n",
       "93  renda familiar per capta maior que três salári...                           \n",
       "94  renda familiar per capta maior que três salári...                           \n",
       "95  renda familiar per capta maior que três salári...                           \n",
       "96  renda familiar per capta maior que três salári...                           \n",
       "\n",
       "   3. Incluindo você, quantos membros da sua família habitam a mesma residência?  \\\n",
       "0                            De quatro a seis pessoas                              \n",
       "1                            De quatro a seis pessoas                              \n",
       "2                            De quatro a seis pessoas                              \n",
       "3                            De quatro a seis pessoas                              \n",
       "4                            De quatro a seis pessoas                              \n",
       "..                                                ...                              \n",
       "92                               Mais de seis pessoas                              \n",
       "93                               Mais de seis pessoas                              \n",
       "94                                  Não tenho família                              \n",
       "95                                  Não tenho família                              \n",
       "96                                  Não tenho família                              \n",
       "\n",
       "   10. Você se considera:  Inscrição  \n",
       "0              Amarelo(a)          1  \n",
       "1               Branco(a)         74  \n",
       "2                Indígena          1  \n",
       "3                Pardo(a)        144  \n",
       "4                Preto(a)         34  \n",
       "..                    ...        ...  \n",
       "92               Pardo(a)          6  \n",
       "93               Preto(a)          1  \n",
       "94              Branco(a)          1  \n",
       "95               Pardo(a)          1  \n",
       "96               Preto(a)          2  \n",
       "\n",
       "[97 rows x 4 columns]"
      ]
     },
     "execution_count": 17,
     "metadata": {},
     "output_type": "execute_result"
    }
   ],
   "source": [
    "aux = df.groupby(\n",
    "        [\n",
    "            '4. Qual é a renda mensal de sua família? (valor do salário mínimo R$1.212)',\n",
    "            '3. Incluindo você, quantos membros da sua família habitam a mesma residência?',\n",
    "            '10. Você se considera:',\n",
    "        ]\n",
    "    )['Inscrição'].count().reset_index()\n",
    "aux"
   ]
  },
  {
   "cell_type": "code",
   "execution_count": 18,
   "metadata": {},
   "outputs": [
    {
     "data": {
      "application/vnd.plotly.v1+json": {
       "config": {
        "plotlyServerURL": "https://plot.ly"
       },
       "data": [
        {
         "alignmentgroup": "True",
         "hovertemplate": "10. Você se considera:=Amarelo(a)<br>Inscrição=%{x}<br>4. Qual é a renda mensal de sua família? (valor do salário mínimo R$1.212)=%{y}<br>3. Incluindo você, quantos membros da sua família habitam a mesma residência?=%{text}<extra></extra>",
         "legendgroup": "Amarelo(a)",
         "marker": {
          "color": "#636efa",
          "pattern": {
           "shape": ""
          }
         },
         "name": "Amarelo(a)",
         "offsetgroup": "Amarelo(a)",
         "orientation": "h",
         "showlegend": true,
         "text": [
          "De quatro a seis pessoas",
          "De quatro a seis pessoas",
          "De uma a três pessoas",
          "Mais de seis pessoas",
          "Não tenho família",
          "De quatro a seis pessoas",
          "De uma a três pessoas",
          "Mais de seis pessoas",
          "Não tenho família",
          "De quatro a seis pessoas",
          "De uma a três pessoas",
          "Mais de seis pessoas",
          "De quatro a seis pessoas",
          "De uma a três pessoas",
          "Não tenho família",
          "De quatro a seis pessoas",
          "De uma a três pessoas",
          "Mais de seis pessoas"
         ],
         "textposition": "auto",
         "type": "bar",
         "x": [
          1,
          12,
          15,
          2,
          1,
          16,
          15,
          1,
          1,
          15,
          2,
          1,
          9,
          12,
          1,
          2,
          4,
          2
         ],
         "xaxis": "x",
         "y": [
          "renda familiar per capta de dois e meio até três salário mínimo",
          "renda familiar per capta de meio até um salário mínimo",
          "renda familiar per capta de meio até um salário mínimo",
          "renda familiar per capta de meio até um salário mínimo",
          "renda familiar per capta de meio até um salário mínimo",
          "renda familiar per capta de um até um e meio salário mínimo",
          "renda familiar per capta de um até um e meio salário mínimo",
          "renda familiar per capta de um até um e meio salário mínimo",
          "renda familiar per capta de um até um e meio salário mínimo",
          "renda familiar per capta de um e meio até dois e meio salário mínimo",
          "renda familiar per capta de um e meio até dois e meio salário mínimo",
          "renda familiar per capta de um e meio até dois e meio salário mínimo",
          "renda familiar per capta de zero até meio salário mínimo",
          "renda familiar per capta de zero até meio salário mínimo",
          "renda familiar per capta de zero até meio salário mínimo",
          "renda familiar per capta maior que três salário mínimo",
          "renda familiar per capta maior que três salário mínimo",
          "renda familiar per capta maior que três salário mínimo"
         ],
         "yaxis": "y"
        },
        {
         "alignmentgroup": "True",
         "hovertemplate": "10. Você se considera:=Branco(a)<br>Inscrição=%{x}<br>4. Qual é a renda mensal de sua família? (valor do salário mínimo R$1.212)=%{y}<br>3. Incluindo você, quantos membros da sua família habitam a mesma residência?=%{text}<extra></extra>",
         "legendgroup": "Branco(a)",
         "marker": {
          "color": "#EF553B",
          "pattern": {
           "shape": ""
          }
         },
         "name": "Branco(a)",
         "offsetgroup": "Branco(a)",
         "orientation": "h",
         "showlegend": true,
         "text": [
          "De quatro a seis pessoas",
          "De uma a três pessoas",
          "Não tenho família",
          "De quatro a seis pessoas",
          "De uma a três pessoas",
          "Mais de seis pessoas",
          "Não tenho família",
          "De quatro a seis pessoas",
          "De uma a três pessoas",
          "Mais de seis pessoas",
          "Não tenho família",
          "De quatro a seis pessoas",
          "De uma a três pessoas",
          "Mais de seis pessoas",
          "De quatro a seis pessoas",
          "De uma a três pessoas",
          "Mais de seis pessoas",
          "Não tenho família",
          "De quatro a seis pessoas",
          "De uma a três pessoas",
          "Mais de seis pessoas",
          "Não tenho família"
         ],
         "textposition": "auto",
         "type": "bar",
         "x": [
          74,
          34,
          1,
          250,
          187,
          13,
          4,
          189,
          170,
          5,
          3,
          162,
          112,
          2,
          153,
          130,
          6,
          4,
          121,
          49,
          4,
          1
         ],
         "xaxis": "x",
         "y": [
          "renda familiar per capta de dois e meio até três salário mínimo",
          "renda familiar per capta de dois e meio até três salário mínimo",
          "renda familiar per capta de dois e meio até três salário mínimo",
          "renda familiar per capta de meio até um salário mínimo",
          "renda familiar per capta de meio até um salário mínimo",
          "renda familiar per capta de meio até um salário mínimo",
          "renda familiar per capta de meio até um salário mínimo",
          "renda familiar per capta de um até um e meio salário mínimo",
          "renda familiar per capta de um até um e meio salário mínimo",
          "renda familiar per capta de um até um e meio salário mínimo",
          "renda familiar per capta de um até um e meio salário mínimo",
          "renda familiar per capta de um e meio até dois e meio salário mínimo",
          "renda familiar per capta de um e meio até dois e meio salário mínimo",
          "renda familiar per capta de um e meio até dois e meio salário mínimo",
          "renda familiar per capta de zero até meio salário mínimo",
          "renda familiar per capta de zero até meio salário mínimo",
          "renda familiar per capta de zero até meio salário mínimo",
          "renda familiar per capta de zero até meio salário mínimo",
          "renda familiar per capta maior que três salário mínimo",
          "renda familiar per capta maior que três salário mínimo",
          "renda familiar per capta maior que três salário mínimo",
          "renda familiar per capta maior que três salário mínimo"
         ],
         "yaxis": "y"
        },
        {
         "alignmentgroup": "True",
         "hovertemplate": "10. Você se considera:=Indígena<br>Inscrição=%{x}<br>4. Qual é a renda mensal de sua família? (valor do salário mínimo R$1.212)=%{y}<br>3. Incluindo você, quantos membros da sua família habitam a mesma residência?=%{text}<extra></extra>",
         "legendgroup": "Indígena",
         "marker": {
          "color": "#00cc96",
          "pattern": {
           "shape": ""
          }
         },
         "name": "Indígena",
         "offsetgroup": "Indígena",
         "orientation": "h",
         "showlegend": true,
         "text": [
          "De quatro a seis pessoas",
          "De quatro a seis pessoas",
          "De uma a três pessoas",
          "Mais de seis pessoas",
          "De quatro a seis pessoas",
          "De uma a três pessoas",
          "De quatro a seis pessoas",
          "De quatro a seis pessoas",
          "De uma a três pessoas",
          "Mais de seis pessoas"
         ],
         "textposition": "auto",
         "type": "bar",
         "x": [
          1,
          10,
          4,
          1,
          3,
          3,
          1,
          4,
          7,
          1
         ],
         "xaxis": "x",
         "y": [
          "renda familiar per capta de dois e meio até três salário mínimo",
          "renda familiar per capta de meio até um salário mínimo",
          "renda familiar per capta de meio até um salário mínimo",
          "renda familiar per capta de meio até um salário mínimo",
          "renda familiar per capta de um até um e meio salário mínimo",
          "renda familiar per capta de um até um e meio salário mínimo",
          "renda familiar per capta de um e meio até dois e meio salário mínimo",
          "renda familiar per capta de zero até meio salário mínimo",
          "renda familiar per capta de zero até meio salário mínimo",
          "renda familiar per capta de zero até meio salário mínimo"
         ],
         "yaxis": "y"
        },
        {
         "alignmentgroup": "True",
         "hovertemplate": "10. Você se considera:=Pardo(a)<br>Inscrição=%{x}<br>4. Qual é a renda mensal de sua família? (valor do salário mínimo R$1.212)=%{y}<br>3. Incluindo você, quantos membros da sua família habitam a mesma residência?=%{text}<extra></extra>",
         "legendgroup": "Pardo(a)",
         "marker": {
          "color": "#ab63fa",
          "pattern": {
           "shape": ""
          }
         },
         "name": "Pardo(a)",
         "offsetgroup": "Pardo(a)",
         "orientation": "h",
         "showlegend": true,
         "text": [
          "De quatro a seis pessoas",
          "De uma a três pessoas",
          "Mais de seis pessoas",
          "Não tenho família",
          "De quatro a seis pessoas",
          "De uma a três pessoas",
          "Mais de seis pessoas",
          "Não tenho família",
          "De quatro a seis pessoas",
          "De uma a três pessoas",
          "Mais de seis pessoas",
          "Não tenho família",
          "De quatro a seis pessoas",
          "De uma a três pessoas",
          "Mais de seis pessoas",
          "Não tenho família",
          "De quatro a seis pessoas",
          "De uma a três pessoas",
          "Mais de seis pessoas",
          "Não tenho família",
          "De quatro a seis pessoas",
          "De uma a três pessoas",
          "Mais de seis pessoas",
          "Não tenho família"
         ],
         "textposition": "auto",
         "type": "bar",
         "x": [
          144,
          81,
          3,
          2,
          724,
          570,
          40,
          9,
          570,
          328,
          27,
          11,
          407,
          204,
          17,
          3,
          548,
          408,
          38,
          8,
          159,
          73,
          6,
          1
         ],
         "xaxis": "x",
         "y": [
          "renda familiar per capta de dois e meio até três salário mínimo",
          "renda familiar per capta de dois e meio até três salário mínimo",
          "renda familiar per capta de dois e meio até três salário mínimo",
          "renda familiar per capta de dois e meio até três salário mínimo",
          "renda familiar per capta de meio até um salário mínimo",
          "renda familiar per capta de meio até um salário mínimo",
          "renda familiar per capta de meio até um salário mínimo",
          "renda familiar per capta de meio até um salário mínimo",
          "renda familiar per capta de um até um e meio salário mínimo",
          "renda familiar per capta de um até um e meio salário mínimo",
          "renda familiar per capta de um até um e meio salário mínimo",
          "renda familiar per capta de um até um e meio salário mínimo",
          "renda familiar per capta de um e meio até dois e meio salário mínimo",
          "renda familiar per capta de um e meio até dois e meio salário mínimo",
          "renda familiar per capta de um e meio até dois e meio salário mínimo",
          "renda familiar per capta de um e meio até dois e meio salário mínimo",
          "renda familiar per capta de zero até meio salário mínimo",
          "renda familiar per capta de zero até meio salário mínimo",
          "renda familiar per capta de zero até meio salário mínimo",
          "renda familiar per capta de zero até meio salário mínimo",
          "renda familiar per capta maior que três salário mínimo",
          "renda familiar per capta maior que três salário mínimo",
          "renda familiar per capta maior que três salário mínimo",
          "renda familiar per capta maior que três salário mínimo"
         ],
         "yaxis": "y"
        },
        {
         "alignmentgroup": "True",
         "hovertemplate": "10. Você se considera:=Preto(a)<br>Inscrição=%{x}<br>4. Qual é a renda mensal de sua família? (valor do salário mínimo R$1.212)=%{y}<br>3. Incluindo você, quantos membros da sua família habitam a mesma residência?=%{text}<extra></extra>",
         "legendgroup": "Preto(a)",
         "marker": {
          "color": "#FFA15A",
          "pattern": {
           "shape": ""
          }
         },
         "name": "Preto(a)",
         "offsetgroup": "Preto(a)",
         "orientation": "h",
         "showlegend": true,
         "text": [
          "De quatro a seis pessoas",
          "De uma a três pessoas",
          "Mais de seis pessoas",
          "De quatro a seis pessoas",
          "De uma a três pessoas",
          "Mais de seis pessoas",
          "Não tenho família",
          "De quatro a seis pessoas",
          "De uma a três pessoas",
          "Mais de seis pessoas",
          "Não tenho família",
          "De quatro a seis pessoas",
          "De uma a três pessoas",
          "Mais de seis pessoas",
          "Não tenho família",
          "De quatro a seis pessoas",
          "De uma a três pessoas",
          "Mais de seis pessoas",
          "Não tenho família",
          "De quatro a seis pessoas",
          "De uma a três pessoas",
          "Mais de seis pessoas",
          "Não tenho família"
         ],
         "textposition": "auto",
         "type": "bar",
         "x": [
          34,
          17,
          3,
          199,
          127,
          12,
          6,
          117,
          88,
          9,
          1,
          65,
          44,
          2,
          1,
          130,
          88,
          11,
          3,
          15,
          18,
          1,
          2
         ],
         "xaxis": "x",
         "y": [
          "renda familiar per capta de dois e meio até três salário mínimo",
          "renda familiar per capta de dois e meio até três salário mínimo",
          "renda familiar per capta de dois e meio até três salário mínimo",
          "renda familiar per capta de meio até um salário mínimo",
          "renda familiar per capta de meio até um salário mínimo",
          "renda familiar per capta de meio até um salário mínimo",
          "renda familiar per capta de meio até um salário mínimo",
          "renda familiar per capta de um até um e meio salário mínimo",
          "renda familiar per capta de um até um e meio salário mínimo",
          "renda familiar per capta de um até um e meio salário mínimo",
          "renda familiar per capta de um até um e meio salário mínimo",
          "renda familiar per capta de um e meio até dois e meio salário mínimo",
          "renda familiar per capta de um e meio até dois e meio salário mínimo",
          "renda familiar per capta de um e meio até dois e meio salário mínimo",
          "renda familiar per capta de um e meio até dois e meio salário mínimo",
          "renda familiar per capta de zero até meio salário mínimo",
          "renda familiar per capta de zero até meio salário mínimo",
          "renda familiar per capta de zero até meio salário mínimo",
          "renda familiar per capta de zero até meio salário mínimo",
          "renda familiar per capta maior que três salário mínimo",
          "renda familiar per capta maior que três salário mínimo",
          "renda familiar per capta maior que três salário mínimo",
          "renda familiar per capta maior que três salário mínimo"
         ],
         "yaxis": "y"
        }
       ],
       "layout": {
        "barmode": "relative",
        "legend": {
         "title": {
          "text": "10. Você se considera:"
         },
         "tracegroupgap": 0
        },
        "plot_bgcolor": "RGBA(0,0,0,0)",
        "template": {
         "data": {
          "bar": [
           {
            "error_x": {
             "color": "#2a3f5f"
            },
            "error_y": {
             "color": "#2a3f5f"
            },
            "marker": {
             "line": {
              "color": "#E5ECF6",
              "width": 0.5
             },
             "pattern": {
              "fillmode": "overlay",
              "size": 10,
              "solidity": 0.2
             }
            },
            "type": "bar"
           }
          ],
          "barpolar": [
           {
            "marker": {
             "line": {
              "color": "#E5ECF6",
              "width": 0.5
             },
             "pattern": {
              "fillmode": "overlay",
              "size": 10,
              "solidity": 0.2
             }
            },
            "type": "barpolar"
           }
          ],
          "carpet": [
           {
            "aaxis": {
             "endlinecolor": "#2a3f5f",
             "gridcolor": "white",
             "linecolor": "white",
             "minorgridcolor": "white",
             "startlinecolor": "#2a3f5f"
            },
            "baxis": {
             "endlinecolor": "#2a3f5f",
             "gridcolor": "white",
             "linecolor": "white",
             "minorgridcolor": "white",
             "startlinecolor": "#2a3f5f"
            },
            "type": "carpet"
           }
          ],
          "choropleth": [
           {
            "colorbar": {
             "outlinewidth": 0,
             "ticks": ""
            },
            "type": "choropleth"
           }
          ],
          "contour": [
           {
            "colorbar": {
             "outlinewidth": 0,
             "ticks": ""
            },
            "colorscale": [
             [
              0,
              "#0d0887"
             ],
             [
              0.1111111111111111,
              "#46039f"
             ],
             [
              0.2222222222222222,
              "#7201a8"
             ],
             [
              0.3333333333333333,
              "#9c179e"
             ],
             [
              0.4444444444444444,
              "#bd3786"
             ],
             [
              0.5555555555555556,
              "#d8576b"
             ],
             [
              0.6666666666666666,
              "#ed7953"
             ],
             [
              0.7777777777777778,
              "#fb9f3a"
             ],
             [
              0.8888888888888888,
              "#fdca26"
             ],
             [
              1,
              "#f0f921"
             ]
            ],
            "type": "contour"
           }
          ],
          "contourcarpet": [
           {
            "colorbar": {
             "outlinewidth": 0,
             "ticks": ""
            },
            "type": "contourcarpet"
           }
          ],
          "heatmap": [
           {
            "colorbar": {
             "outlinewidth": 0,
             "ticks": ""
            },
            "colorscale": [
             [
              0,
              "#0d0887"
             ],
             [
              0.1111111111111111,
              "#46039f"
             ],
             [
              0.2222222222222222,
              "#7201a8"
             ],
             [
              0.3333333333333333,
              "#9c179e"
             ],
             [
              0.4444444444444444,
              "#bd3786"
             ],
             [
              0.5555555555555556,
              "#d8576b"
             ],
             [
              0.6666666666666666,
              "#ed7953"
             ],
             [
              0.7777777777777778,
              "#fb9f3a"
             ],
             [
              0.8888888888888888,
              "#fdca26"
             ],
             [
              1,
              "#f0f921"
             ]
            ],
            "type": "heatmap"
           }
          ],
          "heatmapgl": [
           {
            "colorbar": {
             "outlinewidth": 0,
             "ticks": ""
            },
            "colorscale": [
             [
              0,
              "#0d0887"
             ],
             [
              0.1111111111111111,
              "#46039f"
             ],
             [
              0.2222222222222222,
              "#7201a8"
             ],
             [
              0.3333333333333333,
              "#9c179e"
             ],
             [
              0.4444444444444444,
              "#bd3786"
             ],
             [
              0.5555555555555556,
              "#d8576b"
             ],
             [
              0.6666666666666666,
              "#ed7953"
             ],
             [
              0.7777777777777778,
              "#fb9f3a"
             ],
             [
              0.8888888888888888,
              "#fdca26"
             ],
             [
              1,
              "#f0f921"
             ]
            ],
            "type": "heatmapgl"
           }
          ],
          "histogram": [
           {
            "marker": {
             "pattern": {
              "fillmode": "overlay",
              "size": 10,
              "solidity": 0.2
             }
            },
            "type": "histogram"
           }
          ],
          "histogram2d": [
           {
            "colorbar": {
             "outlinewidth": 0,
             "ticks": ""
            },
            "colorscale": [
             [
              0,
              "#0d0887"
             ],
             [
              0.1111111111111111,
              "#46039f"
             ],
             [
              0.2222222222222222,
              "#7201a8"
             ],
             [
              0.3333333333333333,
              "#9c179e"
             ],
             [
              0.4444444444444444,
              "#bd3786"
             ],
             [
              0.5555555555555556,
              "#d8576b"
             ],
             [
              0.6666666666666666,
              "#ed7953"
             ],
             [
              0.7777777777777778,
              "#fb9f3a"
             ],
             [
              0.8888888888888888,
              "#fdca26"
             ],
             [
              1,
              "#f0f921"
             ]
            ],
            "type": "histogram2d"
           }
          ],
          "histogram2dcontour": [
           {
            "colorbar": {
             "outlinewidth": 0,
             "ticks": ""
            },
            "colorscale": [
             [
              0,
              "#0d0887"
             ],
             [
              0.1111111111111111,
              "#46039f"
             ],
             [
              0.2222222222222222,
              "#7201a8"
             ],
             [
              0.3333333333333333,
              "#9c179e"
             ],
             [
              0.4444444444444444,
              "#bd3786"
             ],
             [
              0.5555555555555556,
              "#d8576b"
             ],
             [
              0.6666666666666666,
              "#ed7953"
             ],
             [
              0.7777777777777778,
              "#fb9f3a"
             ],
             [
              0.8888888888888888,
              "#fdca26"
             ],
             [
              1,
              "#f0f921"
             ]
            ],
            "type": "histogram2dcontour"
           }
          ],
          "mesh3d": [
           {
            "colorbar": {
             "outlinewidth": 0,
             "ticks": ""
            },
            "type": "mesh3d"
           }
          ],
          "parcoords": [
           {
            "line": {
             "colorbar": {
              "outlinewidth": 0,
              "ticks": ""
             }
            },
            "type": "parcoords"
           }
          ],
          "pie": [
           {
            "automargin": true,
            "type": "pie"
           }
          ],
          "scatter": [
           {
            "fillpattern": {
             "fillmode": "overlay",
             "size": 10,
             "solidity": 0.2
            },
            "type": "scatter"
           }
          ],
          "scatter3d": [
           {
            "line": {
             "colorbar": {
              "outlinewidth": 0,
              "ticks": ""
             }
            },
            "marker": {
             "colorbar": {
              "outlinewidth": 0,
              "ticks": ""
             }
            },
            "type": "scatter3d"
           }
          ],
          "scattercarpet": [
           {
            "marker": {
             "colorbar": {
              "outlinewidth": 0,
              "ticks": ""
             }
            },
            "type": "scattercarpet"
           }
          ],
          "scattergeo": [
           {
            "marker": {
             "colorbar": {
              "outlinewidth": 0,
              "ticks": ""
             }
            },
            "type": "scattergeo"
           }
          ],
          "scattergl": [
           {
            "marker": {
             "colorbar": {
              "outlinewidth": 0,
              "ticks": ""
             }
            },
            "type": "scattergl"
           }
          ],
          "scattermapbox": [
           {
            "marker": {
             "colorbar": {
              "outlinewidth": 0,
              "ticks": ""
             }
            },
            "type": "scattermapbox"
           }
          ],
          "scatterpolar": [
           {
            "marker": {
             "colorbar": {
              "outlinewidth": 0,
              "ticks": ""
             }
            },
            "type": "scatterpolar"
           }
          ],
          "scatterpolargl": [
           {
            "marker": {
             "colorbar": {
              "outlinewidth": 0,
              "ticks": ""
             }
            },
            "type": "scatterpolargl"
           }
          ],
          "scatterternary": [
           {
            "marker": {
             "colorbar": {
              "outlinewidth": 0,
              "ticks": ""
             }
            },
            "type": "scatterternary"
           }
          ],
          "surface": [
           {
            "colorbar": {
             "outlinewidth": 0,
             "ticks": ""
            },
            "colorscale": [
             [
              0,
              "#0d0887"
             ],
             [
              0.1111111111111111,
              "#46039f"
             ],
             [
              0.2222222222222222,
              "#7201a8"
             ],
             [
              0.3333333333333333,
              "#9c179e"
             ],
             [
              0.4444444444444444,
              "#bd3786"
             ],
             [
              0.5555555555555556,
              "#d8576b"
             ],
             [
              0.6666666666666666,
              "#ed7953"
             ],
             [
              0.7777777777777778,
              "#fb9f3a"
             ],
             [
              0.8888888888888888,
              "#fdca26"
             ],
             [
              1,
              "#f0f921"
             ]
            ],
            "type": "surface"
           }
          ],
          "table": [
           {
            "cells": {
             "fill": {
              "color": "#EBF0F8"
             },
             "line": {
              "color": "white"
             }
            },
            "header": {
             "fill": {
              "color": "#C8D4E3"
             },
             "line": {
              "color": "white"
             }
            },
            "type": "table"
           }
          ]
         },
         "layout": {
          "annotationdefaults": {
           "arrowcolor": "#2a3f5f",
           "arrowhead": 0,
           "arrowwidth": 1
          },
          "autotypenumbers": "strict",
          "coloraxis": {
           "colorbar": {
            "outlinewidth": 0,
            "ticks": ""
           }
          },
          "colorscale": {
           "diverging": [
            [
             0,
             "#8e0152"
            ],
            [
             0.1,
             "#c51b7d"
            ],
            [
             0.2,
             "#de77ae"
            ],
            [
             0.3,
             "#f1b6da"
            ],
            [
             0.4,
             "#fde0ef"
            ],
            [
             0.5,
             "#f7f7f7"
            ],
            [
             0.6,
             "#e6f5d0"
            ],
            [
             0.7,
             "#b8e186"
            ],
            [
             0.8,
             "#7fbc41"
            ],
            [
             0.9,
             "#4d9221"
            ],
            [
             1,
             "#276419"
            ]
           ],
           "sequential": [
            [
             0,
             "#0d0887"
            ],
            [
             0.1111111111111111,
             "#46039f"
            ],
            [
             0.2222222222222222,
             "#7201a8"
            ],
            [
             0.3333333333333333,
             "#9c179e"
            ],
            [
             0.4444444444444444,
             "#bd3786"
            ],
            [
             0.5555555555555556,
             "#d8576b"
            ],
            [
             0.6666666666666666,
             "#ed7953"
            ],
            [
             0.7777777777777778,
             "#fb9f3a"
            ],
            [
             0.8888888888888888,
             "#fdca26"
            ],
            [
             1,
             "#f0f921"
            ]
           ],
           "sequentialminus": [
            [
             0,
             "#0d0887"
            ],
            [
             0.1111111111111111,
             "#46039f"
            ],
            [
             0.2222222222222222,
             "#7201a8"
            ],
            [
             0.3333333333333333,
             "#9c179e"
            ],
            [
             0.4444444444444444,
             "#bd3786"
            ],
            [
             0.5555555555555556,
             "#d8576b"
            ],
            [
             0.6666666666666666,
             "#ed7953"
            ],
            [
             0.7777777777777778,
             "#fb9f3a"
            ],
            [
             0.8888888888888888,
             "#fdca26"
            ],
            [
             1,
             "#f0f921"
            ]
           ]
          },
          "colorway": [
           "#636efa",
           "#EF553B",
           "#00cc96",
           "#ab63fa",
           "#FFA15A",
           "#19d3f3",
           "#FF6692",
           "#B6E880",
           "#FF97FF",
           "#FECB52"
          ],
          "font": {
           "color": "#2a3f5f"
          },
          "geo": {
           "bgcolor": "white",
           "lakecolor": "white",
           "landcolor": "#E5ECF6",
           "showlakes": true,
           "showland": true,
           "subunitcolor": "white"
          },
          "hoverlabel": {
           "align": "left"
          },
          "hovermode": "closest",
          "mapbox": {
           "style": "light"
          },
          "paper_bgcolor": "white",
          "plot_bgcolor": "#E5ECF6",
          "polar": {
           "angularaxis": {
            "gridcolor": "white",
            "linecolor": "white",
            "ticks": ""
           },
           "bgcolor": "#E5ECF6",
           "radialaxis": {
            "gridcolor": "white",
            "linecolor": "white",
            "ticks": ""
           }
          },
          "scene": {
           "xaxis": {
            "backgroundcolor": "#E5ECF6",
            "gridcolor": "white",
            "gridwidth": 2,
            "linecolor": "white",
            "showbackground": true,
            "ticks": "",
            "zerolinecolor": "white"
           },
           "yaxis": {
            "backgroundcolor": "#E5ECF6",
            "gridcolor": "white",
            "gridwidth": 2,
            "linecolor": "white",
            "showbackground": true,
            "ticks": "",
            "zerolinecolor": "white"
           },
           "zaxis": {
            "backgroundcolor": "#E5ECF6",
            "gridcolor": "white",
            "gridwidth": 2,
            "linecolor": "white",
            "showbackground": true,
            "ticks": "",
            "zerolinecolor": "white"
           }
          },
          "shapedefaults": {
           "line": {
            "color": "#2a3f5f"
           }
          },
          "ternary": {
           "aaxis": {
            "gridcolor": "white",
            "linecolor": "white",
            "ticks": ""
           },
           "baxis": {
            "gridcolor": "white",
            "linecolor": "white",
            "ticks": ""
           },
           "bgcolor": "#E5ECF6",
           "caxis": {
            "gridcolor": "white",
            "linecolor": "white",
            "ticks": ""
           }
          },
          "title": {
           "x": 0.05
          },
          "xaxis": {
           "automargin": true,
           "gridcolor": "white",
           "linecolor": "white",
           "ticks": "",
           "title": {
            "standoff": 15
           },
           "zerolinecolor": "white",
           "zerolinewidth": 2
          },
          "yaxis": {
           "automargin": true,
           "gridcolor": "white",
           "linecolor": "white",
           "ticks": "",
           "title": {
            "standoff": 15
           },
           "zerolinecolor": "white",
           "zerolinewidth": 2
          }
         }
        },
        "title": {
         "text": "frequencia de respostas agrupadas"
        },
        "xaxis": {
         "anchor": "y",
         "domain": [
          0,
          1
         ],
         "linecolor": "black",
         "linewidth": 1,
         "showgrid": false,
         "showline": true,
         "title": {
          "text": "Total de inscrições"
         }
        },
        "yaxis": {
         "anchor": "x",
         "domain": [
          0,
          1
         ],
         "linecolor": "black",
         "linewidth": 1,
         "showgrid": false,
         "showline": true,
         "title": {
          "text": "Respostas 'Renda por familia'"
         }
        }
       }
      }
     },
     "metadata": {},
     "output_type": "display_data"
    }
   ],
   "source": [
    "fig = px.bar(\n",
    "    aux,\n",
    "    y='4. Qual é a renda mensal de sua família? (valor do salário mínimo R$1.212)',\n",
    "    x='Inscrição',\n",
    "    title=\"frequencia de respostas agrupadas\",\n",
    "    orientation='h',\n",
    "    text='3. Incluindo você, quantos membros da sua família habitam a mesma residência?',\n",
    "    barmode='relative', #['stack', 'group', 'overlay', 'relative']\n",
    "    color='10. Você se considera:'\n",
    ")\n",
    "\n",
    "fig.update_xaxes(title='Total de inscrições',showgrid=False,showline=True, linewidth=1, linecolor='black')\n",
    "fig.update_yaxes(title=\"Respostas 'Renda por familia'\",showgrid=False,showline=True, linewidth=1, linecolor='black')\n",
    "fig.update_layout(plot_bgcolor = 'RGBA(0,0,0,0)')\n",
    "\n",
    "fig.show()"
   ]
  },
  {
   "cell_type": "code",
   "execution_count": 19,
   "metadata": {},
   "outputs": [
    {
     "data": {
      "text/plain": [
       "730"
      ]
     },
     "execution_count": 19,
     "metadata": {},
     "output_type": "execute_result"
    }
   ],
   "source": [
    "# Media de auto declarados pardos por renda familiar\n",
    "\n",
    "round(df.loc[df['10. Você se considera:'] == 'Pardo(a)'].groupby(\n",
    "        [\n",
    "            '4. Qual é a renda mensal de sua família? (valor do salário mínimo R$1.212)',\n",
    "            '10. Você se considera:',\n",
    "        ]\n",
    "    )['Inscrição'].count().reset_index()['Inscrição'].mean())"
   ]
  },
  {
   "cell_type": "code",
   "execution_count": 20,
   "metadata": {},
   "outputs": [
    {
     "data": {
      "text/plain": [
       "784"
      ]
     },
     "execution_count": 20,
     "metadata": {},
     "output_type": "execute_result"
    }
   ],
   "source": [
    "# Mediana de auto declarados pardos por renda familiar\n",
    "\n",
    "round(df.loc[df['10. Você se considera:'] == 'Pardo(a)'].groupby(\n",
    "        [\n",
    "            '4. Qual é a renda mensal de sua família? (valor do salário mínimo R$1.212)',\n",
    "            '10. Você se considera:',\n",
    "        ]\n",
    "    )['Inscrição'].count().reset_index()['Inscrição'].median())"
   ]
  },
  {
   "cell_type": "code",
   "execution_count": 22,
   "metadata": {},
   "outputs": [
    {
     "data": {
      "text/plain": [
       "445.6614933631429"
      ]
     },
     "execution_count": 22,
     "metadata": {},
     "output_type": "execute_result"
    }
   ],
   "source": [
    "# Desvio padrão de auto declarados pardos por renda familiar\n",
    "\n",
    "df.loc[df['10. Você se considera:'] == 'Pardo(a)'].groupby(\n",
    "        [\n",
    "            '4. Qual é a renda mensal de sua família? (valor do salário mínimo R$1.212)',\n",
    "            '10. Você se considera:',\n",
    "        ]\n",
    "    )['Inscrição'].count().reset_index()['Inscrição'].std()"
   ]
  },
  {
   "cell_type": "code",
   "execution_count": 23,
   "metadata": {},
   "outputs": [],
   "source": [
    "from pycaret.anomaly import *\n",
    "s = setup(data = df.drop(columns=['Inscrição']), session_id=123,verbose = False, html = False)"
   ]
  },
  {
   "cell_type": "code",
   "execution_count": 26,
   "metadata": {},
   "outputs": [],
   "source": [
    "from sklearn.metrics import DistanceMetric\n",
    "\n",
    "dist = DistanceMetric.get_metric('hamming')"
   ]
  },
  {
   "cell_type": "code",
   "execution_count": 27,
   "metadata": {},
   "outputs": [],
   "source": [
    "distancias = dist.pairwise(s.X_transformed)"
   ]
  },
  {
   "cell_type": "code",
   "execution_count": 91,
   "metadata": {},
   "outputs": [],
   "source": [
    "centrais = []\n",
    "\n",
    "for l in distancias:\n",
    "    centrais.append((np.mean(l), np.median(l)))"
   ]
  },
  {
   "cell_type": "code",
   "execution_count": 138,
   "metadata": {},
   "outputs": [
    {
     "data": {
      "text/plain": [
       "[(0.13561264135447595, 0.13068181818181818),\n",
       " (0.23777639143344492, 0.24431818181818182)]"
      ]
     },
     "execution_count": 138,
     "metadata": {},
     "output_type": "execute_result"
    }
   ],
   "source": [
    "[min(centrais),max(centrais)]"
   ]
  },
  {
   "cell_type": "code",
   "execution_count": 141,
   "metadata": {},
   "outputs": [
    {
     "data": {
      "text/plain": [
       "(0.16606914775314754, 0.1630330406216438)"
      ]
     },
     "execution_count": 141,
     "metadata": {},
     "output_type": "execute_result"
    }
   ],
   "source": [
    "np.mean(centrais),np.median(centrais)"
   ]
  },
  {
   "cell_type": "code",
   "execution_count": null,
   "metadata": {},
   "outputs": [],
   "source": []
  }
 ],
 "metadata": {
  "kernelspec": {
   "display_name": "mlvenv",
   "language": "python",
   "name": "python3"
  },
  "language_info": {
   "codemirror_mode": {
    "name": "ipython",
    "version": 3
   },
   "file_extension": ".py",
   "mimetype": "text/x-python",
   "name": "python",
   "nbconvert_exporter": "python",
   "pygments_lexer": "ipython3",
   "version": "3.10.5"
  },
  "orig_nbformat": 4
 },
 "nbformat": 4,
 "nbformat_minor": 2
}
